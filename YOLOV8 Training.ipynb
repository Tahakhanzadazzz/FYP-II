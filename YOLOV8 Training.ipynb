{
  "nbformat": 4,
  "nbformat_minor": 0,
  "metadata": {
    "colab": {
      "provenance": [],
      "gpuType": "T4"
    },
    "kernelspec": {
      "name": "python3",
      "display_name": "Python 3"
    },
    "language_info": {
      "name": "python"
    },
    "accelerator": "GPU"
  },
  "cells": [
    {
      "cell_type": "code",
      "execution_count": 3,
      "metadata": {
        "id": "ryfdgLj9Os2j"
      },
      "outputs": [],
      "source": [
        "import os\n",
        "!nvidia-smi\n",
        "from IPython import display\n",
        "display.clear_output()\n"
      ]
    },
    {
      "cell_type": "code",
      "source": [
        "!pip install ultralytics\n",
        "display.clear_output()"
      ],
      "metadata": {
        "id": "cjdxnBpGUEdE"
      },
      "execution_count": 2,
      "outputs": []
    },
    {
      "cell_type": "code",
      "source": [
        "from ultralytics import YOLO\n",
        "import os\n",
        "display.clear_output()\n"
      ],
      "metadata": {
        "id": "_L7xyox8UEeu"
      },
      "execution_count": 4,
      "outputs": []
    },
    {
      "cell_type": "code",
      "source": [
        "!pip install roboflow\n",
        "display.clear_output()\n"
      ],
      "metadata": {
        "id": "JSkWGHetUEjG"
      },
      "execution_count": 5,
      "outputs": []
    },
    {
      "cell_type": "code",
      "source": [
        "!pip install roboflow\n",
        "\n",
        "from roboflow import Roboflow\n",
        "rf = Roboflow(api_key=\"852qyQHbXpnFXeMOBivJ\")\n",
        "project = rf.workspace(\"fyp-amaz8\").project(\"fyp-ipel7\")\n",
        "version = project.version(3)\n",
        "dataset = version.download(\"yolov8\")\n"
      ],
      "metadata": {
        "colab": {
          "base_uri": "https://localhost:8080/"
        },
        "id": "mur9cuLtUEmT",
        "outputId": "1567ae6e-ab94-4060-df70-1a4ac0851902"
      },
      "execution_count": 6,
      "outputs": [
        {
          "output_type": "stream",
          "name": "stdout",
          "text": [
            "Requirement already satisfied: roboflow in /usr/local/lib/python3.10/dist-packages (1.1.28)\n",
            "Requirement already satisfied: certifi==2023.7.22 in /usr/local/lib/python3.10/dist-packages (from roboflow) (2023.7.22)\n",
            "Requirement already satisfied: chardet==4.0.0 in /usr/local/lib/python3.10/dist-packages (from roboflow) (4.0.0)\n",
            "Requirement already satisfied: cycler==0.10.0 in /usr/local/lib/python3.10/dist-packages (from roboflow) (0.10.0)\n",
            "Requirement already satisfied: idna==2.10 in /usr/local/lib/python3.10/dist-packages (from roboflow) (2.10)\n",
            "Requirement already satisfied: kiwisolver>=1.3.1 in /usr/local/lib/python3.10/dist-packages (from roboflow) (1.4.5)\n",
            "Requirement already satisfied: matplotlib in /usr/local/lib/python3.10/dist-packages (from roboflow) (3.7.1)\n",
            "Requirement already satisfied: numpy>=1.18.5 in /usr/local/lib/python3.10/dist-packages (from roboflow) (1.25.2)\n",
            "Requirement already satisfied: opencv-python-headless==4.8.0.74 in /usr/local/lib/python3.10/dist-packages (from roboflow) (4.8.0.74)\n",
            "Requirement already satisfied: Pillow>=7.1.2 in /usr/local/lib/python3.10/dist-packages (from roboflow) (9.4.0)\n",
            "Requirement already satisfied: python-dateutil in /usr/local/lib/python3.10/dist-packages (from roboflow) (2.8.2)\n",
            "Requirement already satisfied: python-dotenv in /usr/local/lib/python3.10/dist-packages (from roboflow) (1.0.1)\n",
            "Requirement already satisfied: requests in /usr/local/lib/python3.10/dist-packages (from roboflow) (2.31.0)\n",
            "Requirement already satisfied: six in /usr/local/lib/python3.10/dist-packages (from roboflow) (1.16.0)\n",
            "Requirement already satisfied: urllib3>=1.26.6 in /usr/local/lib/python3.10/dist-packages (from roboflow) (2.0.7)\n",
            "Requirement already satisfied: tqdm>=4.41.0 in /usr/local/lib/python3.10/dist-packages (from roboflow) (4.66.4)\n",
            "Requirement already satisfied: PyYAML>=5.3.1 in /usr/local/lib/python3.10/dist-packages (from roboflow) (6.0.1)\n",
            "Requirement already satisfied: requests-toolbelt in /usr/local/lib/python3.10/dist-packages (from roboflow) (1.0.0)\n",
            "Requirement already satisfied: python-magic in /usr/local/lib/python3.10/dist-packages (from roboflow) (0.4.27)\n",
            "Requirement already satisfied: contourpy>=1.0.1 in /usr/local/lib/python3.10/dist-packages (from matplotlib->roboflow) (1.2.1)\n",
            "Requirement already satisfied: fonttools>=4.22.0 in /usr/local/lib/python3.10/dist-packages (from matplotlib->roboflow) (4.51.0)\n",
            "Requirement already satisfied: packaging>=20.0 in /usr/local/lib/python3.10/dist-packages (from matplotlib->roboflow) (24.0)\n",
            "Requirement already satisfied: pyparsing>=2.3.1 in /usr/local/lib/python3.10/dist-packages (from matplotlib->roboflow) (3.1.2)\n",
            "Requirement already satisfied: charset-normalizer<4,>=2 in /usr/local/lib/python3.10/dist-packages (from requests->roboflow) (3.3.2)\n",
            "loading Roboflow workspace...\n",
            "loading Roboflow project...\n",
            "Dependency ultralytics==8.0.196 is required but found version=8.2.10, to fix: `pip install ultralytics==8.0.196`\n"
          ]
        },
        {
          "output_type": "stream",
          "name": "stderr",
          "text": [
            "Downloading Dataset Version Zip in FYP-3 to yolov8:: 100%|██████████| 9309/9309 [00:00<00:00, 27295.87it/s]"
          ]
        },
        {
          "output_type": "stream",
          "name": "stdout",
          "text": [
            "\n"
          ]
        },
        {
          "output_type": "stream",
          "name": "stderr",
          "text": [
            "\n",
            "Extracting Dataset Version Zip to FYP-3 in yolov8:: 100%|██████████| 306/306 [00:00<00:00, 3294.29it/s]\n"
          ]
        }
      ]
    },
    {
      "cell_type": "code",
      "source": [
        "import zipfile\n",
        "import os\n",
        "\n",
        "def zip_folder(folder_path, output_path):\n",
        "    with zipfile.ZipFile(output_path, 'w', zipfile.ZIP_DEFLATED) as zipf:\n",
        "        for root, dirs, files in os.walk(folder_path):\n",
        "            for file in files:\n",
        "                file_path = os.path.join(root, file)\n",
        "                zipf.write(file_path, os.path.relpath(file_path, folder_path))\n",
        "\n",
        "folder_to_zip = '/content/FYP-3'  # Replace this with your folder path\n",
        "output_zip = '/content/FYP-3.zip'  # Replace this with the desired output zip file path/name\n",
        "\n",
        "zip_folder(folder_to_zip, output_zip)\n"
      ],
      "metadata": {
        "id": "a3OTUQtgUEnn"
      },
      "execution_count": 7,
      "outputs": []
    },
    {
      "cell_type": "code",
      "source": [
        "import zipfile\n",
        "import os\n",
        "\n",
        "def zip_folder(folder_path, output_path):\n",
        "    with zipfile.ZipFile(output_path, 'w', zipfile.ZIP_DEFLATED) as zipf:\n",
        "        for root, dirs, files in os.walk(folder_path):\n",
        "            for file in files:\n",
        "                file_path = os.path.join(root, file)\n",
        "                zipf.write(file_path, os.path.relpath(file_path, folder_path))\n",
        "\n",
        "folder_to_zip = '/content/FYP-3'  # Replace this with your folder path\n",
        "output_zip = '/content/FYP-3.zip'  # Replace this with the desired output zip file path/name\n",
        "\n",
        "zip_folder(folder_to_zip, output_zip)\n"
      ],
      "metadata": {
        "id": "ABgwpQrKUv00"
      },
      "execution_count": 8,
      "outputs": []
    },
    {
      "cell_type": "code",
      "source": [
        "from ultralytics import YOLO\n",
        "\n",
        "# Initialize the YOLO model\n",
        "model = YOLO('yolov8m.pt')\n",
        "\n",
        "# Perform training\n",
        "results_train = model.train(data='/content/FYP-3/data.yaml', epochs=50, imgsz=640)\n",
        "print(results_train)\n",
        "\n",
        "# Perform validation\n",
        "results_val = model.val()\n",
        "print(results_val)\n",
        "display.clear_output()\n"
      ],
      "metadata": {
        "id": "TfAqMlXRUzW5"
      },
      "execution_count": 10,
      "outputs": []
    },
    {
      "cell_type": "code",
      "source": [
        "model.save('yolov8m_trained.pt')"
      ],
      "metadata": {
        "id": "IEE28NE0Ds0_"
      },
      "execution_count": 12,
      "outputs": []
    },
    {
      "cell_type": "code",
      "source": [
        "model.predict('/content/FYP-3/test/images/image_101_jpg.rf.c65bfc809adccf5a1eb86de21bdc6264.jpg',save=True)"
      ],
      "metadata": {
        "colab": {
          "base_uri": "https://localhost:8080/"
        },
        "id": "fhnU5z60qmJe",
        "outputId": "af6ae06b-f185-4c5b-c8a0-ea7219f3ac7f"
      },
      "execution_count": 11,
      "outputs": [
        {
          "output_type": "stream",
          "name": "stdout",
          "text": [
            "\n",
            "image 1/1 /content/FYP-3/test/images/image_101_jpg.rf.c65bfc809adccf5a1eb86de21bdc6264.jpg: 640x640 (no detections), 37.3ms\n",
            "Speed: 2.2ms preprocess, 37.3ms inference, 1.1ms postprocess per image at shape (1, 3, 640, 640)\n",
            "Results saved to \u001b[1mruns/detect/train23\u001b[0m\n"
          ]
        },
        {
          "output_type": "execute_result",
          "data": {
            "text/plain": [
              "[ultralytics.engine.results.Results object with attributes:\n",
              " \n",
              " boxes: ultralytics.engine.results.Boxes object\n",
              " keypoints: None\n",
              " masks: None\n",
              " names: {0: 'bread', 1: 'butterfly', 2: 'calice', 3: 'carafe', 4: 'carnation', 5: 'carne', 6: 'chambre', 7: 'chien', 8: 'cornflower', 9: 'femme', 10: 'feu', 11: 'fico', 12: 'flower', 13: 'fruta', 14: 'jug', 15: 'limone', 16: 'rose', 17: 'table', 18: 'tavolo', 19: 'uccello', 20: 'uva'}\n",
              " obb: None\n",
              " orig_img: array([[[ 94, 122, 146],\n",
              "         [ 85, 116, 139],\n",
              "         [ 40,  73,  93],\n",
              "         ...,\n",
              "         [178, 202, 224],\n",
              "         [114, 132, 155],\n",
              "         [111, 127, 150]],\n",
              " \n",
              "        [[ 90, 116, 140],\n",
              "         [ 90, 118, 142],\n",
              "         [ 54,  87, 107],\n",
              "         ...,\n",
              "         [171, 195, 217],\n",
              "         [108, 126, 149],\n",
              "         [107, 123, 146]],\n",
              " \n",
              "        [[ 67,  91, 113],\n",
              "         [ 77, 104, 125],\n",
              "         [ 55,  84, 105],\n",
              "         ...,\n",
              "         [166, 189, 211],\n",
              "         [103, 119, 142],\n",
              "         [104, 118, 141]],\n",
              " \n",
              "        ...,\n",
              " \n",
              "        [[226, 241, 243],\n",
              "         [226, 243, 246],\n",
              "         [200, 220, 225],\n",
              "         ...,\n",
              "         [ 75, 133, 155],\n",
              "         [ 79, 137, 159],\n",
              "         [ 78, 136, 158]],\n",
              " \n",
              "        [[220, 238, 239],\n",
              "         [212, 231, 234],\n",
              "         [211, 233, 238],\n",
              "         ...,\n",
              "         [ 64, 126, 150],\n",
              "         [ 66, 128, 152],\n",
              "         [ 65, 129, 153]],\n",
              " \n",
              "        [[231, 249, 250],\n",
              "         [218, 238, 239],\n",
              "         [232, 254, 255],\n",
              "         ...,\n",
              "         [ 77, 141, 166],\n",
              "         [ 76, 142, 167],\n",
              "         [ 79, 145, 170]]], dtype=uint8)\n",
              " orig_shape: (640, 640)\n",
              " path: '/content/FYP-3/test/images/image_101_jpg.rf.c65bfc809adccf5a1eb86de21bdc6264.jpg'\n",
              " probs: None\n",
              " save_dir: 'runs/detect/train23'\n",
              " speed: {'preprocess': 2.215147018432617, 'inference': 37.25934028625488, 'postprocess': 1.1341571807861328}]"
            ]
          },
          "metadata": {},
          "execution_count": 11
        }
      ]
    },
    {
      "cell_type": "code",
      "source": [
        "model.predict('/content/FYP-3/train/images/image_0_jpg.rf.eb8faf547fc8cf2d0232b3d62bfaa795.jpg',save=True)"
      ],
      "metadata": {
        "id": "Ltk0rFbPrmXf"
      },
      "execution_count": null,
      "outputs": []
    },
    {
      "cell_type": "code",
      "source": [
        "# # Perform validation\n",
        "# results_val = model.val()\n",
        "# print(\"\\nValidation Results:\")\n",
        "# print(results_val)\n",
        "\n",
        "# # Display detected objects\n",
        "# results_val.show()  # Display bounding boxes on images\n"
      ],
      "metadata": {
        "id": "lKQmIwenfNQf"
      },
      "execution_count": null,
      "outputs": []
    },
    {
      "cell_type": "code",
      "source": [
        "# Load an image\n",
        "img = '/content/FYP-3/test/images/image_101_jpg.rf.c65bfc809adccf5a1eb86de21bdc6264.jpg'  # Replace with actual image path\n",
        "\n"
      ],
      "metadata": {
        "id": "8TWziugxpHGA"
      },
      "execution_count": null,
      "outputs": []
    }
  ]
}