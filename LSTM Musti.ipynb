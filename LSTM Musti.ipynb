{
  "nbformat": 4,
  "nbformat_minor": 0,
  "metadata": {
    "colab": {
      "provenance": []
    },
    "kernelspec": {
      "name": "python3",
      "display_name": "Python 3"
    },
    "language_info": {
      "name": "python"
    },
    "widgets": {
      "application/vnd.jupyter.widget-state+json": {
        "35029d5c1a2c421a9d140a693f078f22": {
          "model_module": "@jupyter-widgets/controls",
          "model_name": "HBoxModel",
          "model_module_version": "1.5.0",
          "state": {
            "_dom_classes": [],
            "_model_module": "@jupyter-widgets/controls",
            "_model_module_version": "1.5.0",
            "_model_name": "HBoxModel",
            "_view_count": null,
            "_view_module": "@jupyter-widgets/controls",
            "_view_module_version": "1.5.0",
            "_view_name": "HBoxView",
            "box_style": "",
            "children": [
              "IPY_MODEL_1aefb1dc7c444594946b216f86366ca4",
              "IPY_MODEL_a5043b071ad04d7eb15d0308a93ad290",
              "IPY_MODEL_4e7ab170684e4556b0225bd7b2d074bf"
            ],
            "layout": "IPY_MODEL_c79b44074e334a0483febc739cd6ed03"
          }
        },
        "1aefb1dc7c444594946b216f86366ca4": {
          "model_module": "@jupyter-widgets/controls",
          "model_name": "HTMLModel",
          "model_module_version": "1.5.0",
          "state": {
            "_dom_classes": [],
            "_model_module": "@jupyter-widgets/controls",
            "_model_module_version": "1.5.0",
            "_model_name": "HTMLModel",
            "_view_count": null,
            "_view_module": "@jupyter-widgets/controls",
            "_view_module_version": "1.5.0",
            "_view_name": "HTMLView",
            "description": "",
            "description_tooltip": null,
            "layout": "IPY_MODEL_fde079eec4254e07ba9d4b97a702e204",
            "placeholder": "​",
            "style": "IPY_MODEL_f721d8a838b24d4291ca338062f73752",
            "value": "tokenizer_config.json: 100%"
          }
        },
        "a5043b071ad04d7eb15d0308a93ad290": {
          "model_module": "@jupyter-widgets/controls",
          "model_name": "FloatProgressModel",
          "model_module_version": "1.5.0",
          "state": {
            "_dom_classes": [],
            "_model_module": "@jupyter-widgets/controls",
            "_model_module_version": "1.5.0",
            "_model_name": "FloatProgressModel",
            "_view_count": null,
            "_view_module": "@jupyter-widgets/controls",
            "_view_module_version": "1.5.0",
            "_view_name": "ProgressView",
            "bar_style": "success",
            "description": "",
            "description_tooltip": null,
            "layout": "IPY_MODEL_3e6f4ba783144dc6a328921c00c05260",
            "max": 48,
            "min": 0,
            "orientation": "horizontal",
            "style": "IPY_MODEL_34438c9d8f5b4bbe9e5be0ca837e1996",
            "value": 48
          }
        },
        "4e7ab170684e4556b0225bd7b2d074bf": {
          "model_module": "@jupyter-widgets/controls",
          "model_name": "HTMLModel",
          "model_module_version": "1.5.0",
          "state": {
            "_dom_classes": [],
            "_model_module": "@jupyter-widgets/controls",
            "_model_module_version": "1.5.0",
            "_model_name": "HTMLModel",
            "_view_count": null,
            "_view_module": "@jupyter-widgets/controls",
            "_view_module_version": "1.5.0",
            "_view_name": "HTMLView",
            "description": "",
            "description_tooltip": null,
            "layout": "IPY_MODEL_1579aaafdd364de886b5c5b60cb67572",
            "placeholder": "​",
            "style": "IPY_MODEL_4ea952bd714642d59e9f6315de5f2e10",
            "value": " 48.0/48.0 [00:00&lt;00:00, 2.99kB/s]"
          }
        },
        "c79b44074e334a0483febc739cd6ed03": {
          "model_module": "@jupyter-widgets/base",
          "model_name": "LayoutModel",
          "model_module_version": "1.2.0",
          "state": {
            "_model_module": "@jupyter-widgets/base",
            "_model_module_version": "1.2.0",
            "_model_name": "LayoutModel",
            "_view_count": null,
            "_view_module": "@jupyter-widgets/base",
            "_view_module_version": "1.2.0",
            "_view_name": "LayoutView",
            "align_content": null,
            "align_items": null,
            "align_self": null,
            "border": null,
            "bottom": null,
            "display": null,
            "flex": null,
            "flex_flow": null,
            "grid_area": null,
            "grid_auto_columns": null,
            "grid_auto_flow": null,
            "grid_auto_rows": null,
            "grid_column": null,
            "grid_gap": null,
            "grid_row": null,
            "grid_template_areas": null,
            "grid_template_columns": null,
            "grid_template_rows": null,
            "height": null,
            "justify_content": null,
            "justify_items": null,
            "left": null,
            "margin": null,
            "max_height": null,
            "max_width": null,
            "min_height": null,
            "min_width": null,
            "object_fit": null,
            "object_position": null,
            "order": null,
            "overflow": null,
            "overflow_x": null,
            "overflow_y": null,
            "padding": null,
            "right": null,
            "top": null,
            "visibility": null,
            "width": null
          }
        },
        "fde079eec4254e07ba9d4b97a702e204": {
          "model_module": "@jupyter-widgets/base",
          "model_name": "LayoutModel",
          "model_module_version": "1.2.0",
          "state": {
            "_model_module": "@jupyter-widgets/base",
            "_model_module_version": "1.2.0",
            "_model_name": "LayoutModel",
            "_view_count": null,
            "_view_module": "@jupyter-widgets/base",
            "_view_module_version": "1.2.0",
            "_view_name": "LayoutView",
            "align_content": null,
            "align_items": null,
            "align_self": null,
            "border": null,
            "bottom": null,
            "display": null,
            "flex": null,
            "flex_flow": null,
            "grid_area": null,
            "grid_auto_columns": null,
            "grid_auto_flow": null,
            "grid_auto_rows": null,
            "grid_column": null,
            "grid_gap": null,
            "grid_row": null,
            "grid_template_areas": null,
            "grid_template_columns": null,
            "grid_template_rows": null,
            "height": null,
            "justify_content": null,
            "justify_items": null,
            "left": null,
            "margin": null,
            "max_height": null,
            "max_width": null,
            "min_height": null,
            "min_width": null,
            "object_fit": null,
            "object_position": null,
            "order": null,
            "overflow": null,
            "overflow_x": null,
            "overflow_y": null,
            "padding": null,
            "right": null,
            "top": null,
            "visibility": null,
            "width": null
          }
        },
        "f721d8a838b24d4291ca338062f73752": {
          "model_module": "@jupyter-widgets/controls",
          "model_name": "DescriptionStyleModel",
          "model_module_version": "1.5.0",
          "state": {
            "_model_module": "@jupyter-widgets/controls",
            "_model_module_version": "1.5.0",
            "_model_name": "DescriptionStyleModel",
            "_view_count": null,
            "_view_module": "@jupyter-widgets/base",
            "_view_module_version": "1.2.0",
            "_view_name": "StyleView",
            "description_width": ""
          }
        },
        "3e6f4ba783144dc6a328921c00c05260": {
          "model_module": "@jupyter-widgets/base",
          "model_name": "LayoutModel",
          "model_module_version": "1.2.0",
          "state": {
            "_model_module": "@jupyter-widgets/base",
            "_model_module_version": "1.2.0",
            "_model_name": "LayoutModel",
            "_view_count": null,
            "_view_module": "@jupyter-widgets/base",
            "_view_module_version": "1.2.0",
            "_view_name": "LayoutView",
            "align_content": null,
            "align_items": null,
            "align_self": null,
            "border": null,
            "bottom": null,
            "display": null,
            "flex": null,
            "flex_flow": null,
            "grid_area": null,
            "grid_auto_columns": null,
            "grid_auto_flow": null,
            "grid_auto_rows": null,
            "grid_column": null,
            "grid_gap": null,
            "grid_row": null,
            "grid_template_areas": null,
            "grid_template_columns": null,
            "grid_template_rows": null,
            "height": null,
            "justify_content": null,
            "justify_items": null,
            "left": null,
            "margin": null,
            "max_height": null,
            "max_width": null,
            "min_height": null,
            "min_width": null,
            "object_fit": null,
            "object_position": null,
            "order": null,
            "overflow": null,
            "overflow_x": null,
            "overflow_y": null,
            "padding": null,
            "right": null,
            "top": null,
            "visibility": null,
            "width": null
          }
        },
        "34438c9d8f5b4bbe9e5be0ca837e1996": {
          "model_module": "@jupyter-widgets/controls",
          "model_name": "ProgressStyleModel",
          "model_module_version": "1.5.0",
          "state": {
            "_model_module": "@jupyter-widgets/controls",
            "_model_module_version": "1.5.0",
            "_model_name": "ProgressStyleModel",
            "_view_count": null,
            "_view_module": "@jupyter-widgets/base",
            "_view_module_version": "1.2.0",
            "_view_name": "StyleView",
            "bar_color": null,
            "description_width": ""
          }
        },
        "1579aaafdd364de886b5c5b60cb67572": {
          "model_module": "@jupyter-widgets/base",
          "model_name": "LayoutModel",
          "model_module_version": "1.2.0",
          "state": {
            "_model_module": "@jupyter-widgets/base",
            "_model_module_version": "1.2.0",
            "_model_name": "LayoutModel",
            "_view_count": null,
            "_view_module": "@jupyter-widgets/base",
            "_view_module_version": "1.2.0",
            "_view_name": "LayoutView",
            "align_content": null,
            "align_items": null,
            "align_self": null,
            "border": null,
            "bottom": null,
            "display": null,
            "flex": null,
            "flex_flow": null,
            "grid_area": null,
            "grid_auto_columns": null,
            "grid_auto_flow": null,
            "grid_auto_rows": null,
            "grid_column": null,
            "grid_gap": null,
            "grid_row": null,
            "grid_template_areas": null,
            "grid_template_columns": null,
            "grid_template_rows": null,
            "height": null,
            "justify_content": null,
            "justify_items": null,
            "left": null,
            "margin": null,
            "max_height": null,
            "max_width": null,
            "min_height": null,
            "min_width": null,
            "object_fit": null,
            "object_position": null,
            "order": null,
            "overflow": null,
            "overflow_x": null,
            "overflow_y": null,
            "padding": null,
            "right": null,
            "top": null,
            "visibility": null,
            "width": null
          }
        },
        "4ea952bd714642d59e9f6315de5f2e10": {
          "model_module": "@jupyter-widgets/controls",
          "model_name": "DescriptionStyleModel",
          "model_module_version": "1.5.0",
          "state": {
            "_model_module": "@jupyter-widgets/controls",
            "_model_module_version": "1.5.0",
            "_model_name": "DescriptionStyleModel",
            "_view_count": null,
            "_view_module": "@jupyter-widgets/base",
            "_view_module_version": "1.2.0",
            "_view_name": "StyleView",
            "description_width": ""
          }
        },
        "1c2f30f1e4d141d9b6561847be18c259": {
          "model_module": "@jupyter-widgets/controls",
          "model_name": "HBoxModel",
          "model_module_version": "1.5.0",
          "state": {
            "_dom_classes": [],
            "_model_module": "@jupyter-widgets/controls",
            "_model_module_version": "1.5.0",
            "_model_name": "HBoxModel",
            "_view_count": null,
            "_view_module": "@jupyter-widgets/controls",
            "_view_module_version": "1.5.0",
            "_view_name": "HBoxView",
            "box_style": "",
            "children": [
              "IPY_MODEL_e98feac9561b447290f1e463c35ec2f0",
              "IPY_MODEL_5213b87f73734ceaad9f43ea0f108f91",
              "IPY_MODEL_7a710dbb514c46a291124599d0d48c36"
            ],
            "layout": "IPY_MODEL_26e0a3332b9347eb86b0d6fa8befded7"
          }
        },
        "e98feac9561b447290f1e463c35ec2f0": {
          "model_module": "@jupyter-widgets/controls",
          "model_name": "HTMLModel",
          "model_module_version": "1.5.0",
          "state": {
            "_dom_classes": [],
            "_model_module": "@jupyter-widgets/controls",
            "_model_module_version": "1.5.0",
            "_model_name": "HTMLModel",
            "_view_count": null,
            "_view_module": "@jupyter-widgets/controls",
            "_view_module_version": "1.5.0",
            "_view_name": "HTMLView",
            "description": "",
            "description_tooltip": null,
            "layout": "IPY_MODEL_5a3985534dbd4bac9c69cca4ceefa3a1",
            "placeholder": "​",
            "style": "IPY_MODEL_15d7bc75c1bd44a3b427893bd3ae07d2",
            "value": "vocab.txt: 100%"
          }
        },
        "5213b87f73734ceaad9f43ea0f108f91": {
          "model_module": "@jupyter-widgets/controls",
          "model_name": "FloatProgressModel",
          "model_module_version": "1.5.0",
          "state": {
            "_dom_classes": [],
            "_model_module": "@jupyter-widgets/controls",
            "_model_module_version": "1.5.0",
            "_model_name": "FloatProgressModel",
            "_view_count": null,
            "_view_module": "@jupyter-widgets/controls",
            "_view_module_version": "1.5.0",
            "_view_name": "ProgressView",
            "bar_style": "success",
            "description": "",
            "description_tooltip": null,
            "layout": "IPY_MODEL_1291a8f0e476492fbb1416ea03837a19",
            "max": 871891,
            "min": 0,
            "orientation": "horizontal",
            "style": "IPY_MODEL_3b1d112a6f164f579bff648e98eaf021",
            "value": 871891
          }
        },
        "7a710dbb514c46a291124599d0d48c36": {
          "model_module": "@jupyter-widgets/controls",
          "model_name": "HTMLModel",
          "model_module_version": "1.5.0",
          "state": {
            "_dom_classes": [],
            "_model_module": "@jupyter-widgets/controls",
            "_model_module_version": "1.5.0",
            "_model_name": "HTMLModel",
            "_view_count": null,
            "_view_module": "@jupyter-widgets/controls",
            "_view_module_version": "1.5.0",
            "_view_name": "HTMLView",
            "description": "",
            "description_tooltip": null,
            "layout": "IPY_MODEL_fedaa6dcf3354c9b8904864aba658ad3",
            "placeholder": "​",
            "style": "IPY_MODEL_1b3541cb964b48b487decce498c42a20",
            "value": " 872k/872k [00:00&lt;00:00, 3.40MB/s]"
          }
        },
        "26e0a3332b9347eb86b0d6fa8befded7": {
          "model_module": "@jupyter-widgets/base",
          "model_name": "LayoutModel",
          "model_module_version": "1.2.0",
          "state": {
            "_model_module": "@jupyter-widgets/base",
            "_model_module_version": "1.2.0",
            "_model_name": "LayoutModel",
            "_view_count": null,
            "_view_module": "@jupyter-widgets/base",
            "_view_module_version": "1.2.0",
            "_view_name": "LayoutView",
            "align_content": null,
            "align_items": null,
            "align_self": null,
            "border": null,
            "bottom": null,
            "display": null,
            "flex": null,
            "flex_flow": null,
            "grid_area": null,
            "grid_auto_columns": null,
            "grid_auto_flow": null,
            "grid_auto_rows": null,
            "grid_column": null,
            "grid_gap": null,
            "grid_row": null,
            "grid_template_areas": null,
            "grid_template_columns": null,
            "grid_template_rows": null,
            "height": null,
            "justify_content": null,
            "justify_items": null,
            "left": null,
            "margin": null,
            "max_height": null,
            "max_width": null,
            "min_height": null,
            "min_width": null,
            "object_fit": null,
            "object_position": null,
            "order": null,
            "overflow": null,
            "overflow_x": null,
            "overflow_y": null,
            "padding": null,
            "right": null,
            "top": null,
            "visibility": null,
            "width": null
          }
        },
        "5a3985534dbd4bac9c69cca4ceefa3a1": {
          "model_module": "@jupyter-widgets/base",
          "model_name": "LayoutModel",
          "model_module_version": "1.2.0",
          "state": {
            "_model_module": "@jupyter-widgets/base",
            "_model_module_version": "1.2.0",
            "_model_name": "LayoutModel",
            "_view_count": null,
            "_view_module": "@jupyter-widgets/base",
            "_view_module_version": "1.2.0",
            "_view_name": "LayoutView",
            "align_content": null,
            "align_items": null,
            "align_self": null,
            "border": null,
            "bottom": null,
            "display": null,
            "flex": null,
            "flex_flow": null,
            "grid_area": null,
            "grid_auto_columns": null,
            "grid_auto_flow": null,
            "grid_auto_rows": null,
            "grid_column": null,
            "grid_gap": null,
            "grid_row": null,
            "grid_template_areas": null,
            "grid_template_columns": null,
            "grid_template_rows": null,
            "height": null,
            "justify_content": null,
            "justify_items": null,
            "left": null,
            "margin": null,
            "max_height": null,
            "max_width": null,
            "min_height": null,
            "min_width": null,
            "object_fit": null,
            "object_position": null,
            "order": null,
            "overflow": null,
            "overflow_x": null,
            "overflow_y": null,
            "padding": null,
            "right": null,
            "top": null,
            "visibility": null,
            "width": null
          }
        },
        "15d7bc75c1bd44a3b427893bd3ae07d2": {
          "model_module": "@jupyter-widgets/controls",
          "model_name": "DescriptionStyleModel",
          "model_module_version": "1.5.0",
          "state": {
            "_model_module": "@jupyter-widgets/controls",
            "_model_module_version": "1.5.0",
            "_model_name": "DescriptionStyleModel",
            "_view_count": null,
            "_view_module": "@jupyter-widgets/base",
            "_view_module_version": "1.2.0",
            "_view_name": "StyleView",
            "description_width": ""
          }
        },
        "1291a8f0e476492fbb1416ea03837a19": {
          "model_module": "@jupyter-widgets/base",
          "model_name": "LayoutModel",
          "model_module_version": "1.2.0",
          "state": {
            "_model_module": "@jupyter-widgets/base",
            "_model_module_version": "1.2.0",
            "_model_name": "LayoutModel",
            "_view_count": null,
            "_view_module": "@jupyter-widgets/base",
            "_view_module_version": "1.2.0",
            "_view_name": "LayoutView",
            "align_content": null,
            "align_items": null,
            "align_self": null,
            "border": null,
            "bottom": null,
            "display": null,
            "flex": null,
            "flex_flow": null,
            "grid_area": null,
            "grid_auto_columns": null,
            "grid_auto_flow": null,
            "grid_auto_rows": null,
            "grid_column": null,
            "grid_gap": null,
            "grid_row": null,
            "grid_template_areas": null,
            "grid_template_columns": null,
            "grid_template_rows": null,
            "height": null,
            "justify_content": null,
            "justify_items": null,
            "left": null,
            "margin": null,
            "max_height": null,
            "max_width": null,
            "min_height": null,
            "min_width": null,
            "object_fit": null,
            "object_position": null,
            "order": null,
            "overflow": null,
            "overflow_x": null,
            "overflow_y": null,
            "padding": null,
            "right": null,
            "top": null,
            "visibility": null,
            "width": null
          }
        },
        "3b1d112a6f164f579bff648e98eaf021": {
          "model_module": "@jupyter-widgets/controls",
          "model_name": "ProgressStyleModel",
          "model_module_version": "1.5.0",
          "state": {
            "_model_module": "@jupyter-widgets/controls",
            "_model_module_version": "1.5.0",
            "_model_name": "ProgressStyleModel",
            "_view_count": null,
            "_view_module": "@jupyter-widgets/base",
            "_view_module_version": "1.2.0",
            "_view_name": "StyleView",
            "bar_color": null,
            "description_width": ""
          }
        },
        "fedaa6dcf3354c9b8904864aba658ad3": {
          "model_module": "@jupyter-widgets/base",
          "model_name": "LayoutModel",
          "model_module_version": "1.2.0",
          "state": {
            "_model_module": "@jupyter-widgets/base",
            "_model_module_version": "1.2.0",
            "_model_name": "LayoutModel",
            "_view_count": null,
            "_view_module": "@jupyter-widgets/base",
            "_view_module_version": "1.2.0",
            "_view_name": "LayoutView",
            "align_content": null,
            "align_items": null,
            "align_self": null,
            "border": null,
            "bottom": null,
            "display": null,
            "flex": null,
            "flex_flow": null,
            "grid_area": null,
            "grid_auto_columns": null,
            "grid_auto_flow": null,
            "grid_auto_rows": null,
            "grid_column": null,
            "grid_gap": null,
            "grid_row": null,
            "grid_template_areas": null,
            "grid_template_columns": null,
            "grid_template_rows": null,
            "height": null,
            "justify_content": null,
            "justify_items": null,
            "left": null,
            "margin": null,
            "max_height": null,
            "max_width": null,
            "min_height": null,
            "min_width": null,
            "object_fit": null,
            "object_position": null,
            "order": null,
            "overflow": null,
            "overflow_x": null,
            "overflow_y": null,
            "padding": null,
            "right": null,
            "top": null,
            "visibility": null,
            "width": null
          }
        },
        "1b3541cb964b48b487decce498c42a20": {
          "model_module": "@jupyter-widgets/controls",
          "model_name": "DescriptionStyleModel",
          "model_module_version": "1.5.0",
          "state": {
            "_model_module": "@jupyter-widgets/controls",
            "_model_module_version": "1.5.0",
            "_model_name": "DescriptionStyleModel",
            "_view_count": null,
            "_view_module": "@jupyter-widgets/base",
            "_view_module_version": "1.2.0",
            "_view_name": "StyleView",
            "description_width": ""
          }
        },
        "1ae50ffea8974c3aa1120e4fa59a24fb": {
          "model_module": "@jupyter-widgets/controls",
          "model_name": "HBoxModel",
          "model_module_version": "1.5.0",
          "state": {
            "_dom_classes": [],
            "_model_module": "@jupyter-widgets/controls",
            "_model_module_version": "1.5.0",
            "_model_name": "HBoxModel",
            "_view_count": null,
            "_view_module": "@jupyter-widgets/controls",
            "_view_module_version": "1.5.0",
            "_view_name": "HBoxView",
            "box_style": "",
            "children": [
              "IPY_MODEL_f15ff02f43a841a58702b7ca7b89f3a3",
              "IPY_MODEL_1b243924403042569b1d2a78f8781b84",
              "IPY_MODEL_610ee6eb4df84622a111d5bf0694e7de"
            ],
            "layout": "IPY_MODEL_b3edbd585a9a4fc19e508c744b27b29c"
          }
        },
        "f15ff02f43a841a58702b7ca7b89f3a3": {
          "model_module": "@jupyter-widgets/controls",
          "model_name": "HTMLModel",
          "model_module_version": "1.5.0",
          "state": {
            "_dom_classes": [],
            "_model_module": "@jupyter-widgets/controls",
            "_model_module_version": "1.5.0",
            "_model_name": "HTMLModel",
            "_view_count": null,
            "_view_module": "@jupyter-widgets/controls",
            "_view_module_version": "1.5.0",
            "_view_name": "HTMLView",
            "description": "",
            "description_tooltip": null,
            "layout": "IPY_MODEL_8f1913f2675f4d78962b04a17d175a42",
            "placeholder": "​",
            "style": "IPY_MODEL_6b6f579eeaa14c4a87ba4240da097029",
            "value": "tokenizer.json: 100%"
          }
        },
        "1b243924403042569b1d2a78f8781b84": {
          "model_module": "@jupyter-widgets/controls",
          "model_name": "FloatProgressModel",
          "model_module_version": "1.5.0",
          "state": {
            "_dom_classes": [],
            "_model_module": "@jupyter-widgets/controls",
            "_model_module_version": "1.5.0",
            "_model_name": "FloatProgressModel",
            "_view_count": null,
            "_view_module": "@jupyter-widgets/controls",
            "_view_module_version": "1.5.0",
            "_view_name": "ProgressView",
            "bar_style": "success",
            "description": "",
            "description_tooltip": null,
            "layout": "IPY_MODEL_8cb00235afa44796bef439abd54045a0",
            "max": 1715180,
            "min": 0,
            "orientation": "horizontal",
            "style": "IPY_MODEL_d9ef69fa82da4beeb4ebee377a2cdb49",
            "value": 1715180
          }
        },
        "610ee6eb4df84622a111d5bf0694e7de": {
          "model_module": "@jupyter-widgets/controls",
          "model_name": "HTMLModel",
          "model_module_version": "1.5.0",
          "state": {
            "_dom_classes": [],
            "_model_module": "@jupyter-widgets/controls",
            "_model_module_version": "1.5.0",
            "_model_name": "HTMLModel",
            "_view_count": null,
            "_view_module": "@jupyter-widgets/controls",
            "_view_module_version": "1.5.0",
            "_view_name": "HTMLView",
            "description": "",
            "description_tooltip": null,
            "layout": "IPY_MODEL_00361816888f4001bd14fa661a9b30c8",
            "placeholder": "​",
            "style": "IPY_MODEL_8f4cb76ea918470a9d0f011a81aeb4fa",
            "value": " 1.72M/1.72M [00:00&lt;00:00, 8.80MB/s]"
          }
        },
        "b3edbd585a9a4fc19e508c744b27b29c": {
          "model_module": "@jupyter-widgets/base",
          "model_name": "LayoutModel",
          "model_module_version": "1.2.0",
          "state": {
            "_model_module": "@jupyter-widgets/base",
            "_model_module_version": "1.2.0",
            "_model_name": "LayoutModel",
            "_view_count": null,
            "_view_module": "@jupyter-widgets/base",
            "_view_module_version": "1.2.0",
            "_view_name": "LayoutView",
            "align_content": null,
            "align_items": null,
            "align_self": null,
            "border": null,
            "bottom": null,
            "display": null,
            "flex": null,
            "flex_flow": null,
            "grid_area": null,
            "grid_auto_columns": null,
            "grid_auto_flow": null,
            "grid_auto_rows": null,
            "grid_column": null,
            "grid_gap": null,
            "grid_row": null,
            "grid_template_areas": null,
            "grid_template_columns": null,
            "grid_template_rows": null,
            "height": null,
            "justify_content": null,
            "justify_items": null,
            "left": null,
            "margin": null,
            "max_height": null,
            "max_width": null,
            "min_height": null,
            "min_width": null,
            "object_fit": null,
            "object_position": null,
            "order": null,
            "overflow": null,
            "overflow_x": null,
            "overflow_y": null,
            "padding": null,
            "right": null,
            "top": null,
            "visibility": null,
            "width": null
          }
        },
        "8f1913f2675f4d78962b04a17d175a42": {
          "model_module": "@jupyter-widgets/base",
          "model_name": "LayoutModel",
          "model_module_version": "1.2.0",
          "state": {
            "_model_module": "@jupyter-widgets/base",
            "_model_module_version": "1.2.0",
            "_model_name": "LayoutModel",
            "_view_count": null,
            "_view_module": "@jupyter-widgets/base",
            "_view_module_version": "1.2.0",
            "_view_name": "LayoutView",
            "align_content": null,
            "align_items": null,
            "align_self": null,
            "border": null,
            "bottom": null,
            "display": null,
            "flex": null,
            "flex_flow": null,
            "grid_area": null,
            "grid_auto_columns": null,
            "grid_auto_flow": null,
            "grid_auto_rows": null,
            "grid_column": null,
            "grid_gap": null,
            "grid_row": null,
            "grid_template_areas": null,
            "grid_template_columns": null,
            "grid_template_rows": null,
            "height": null,
            "justify_content": null,
            "justify_items": null,
            "left": null,
            "margin": null,
            "max_height": null,
            "max_width": null,
            "min_height": null,
            "min_width": null,
            "object_fit": null,
            "object_position": null,
            "order": null,
            "overflow": null,
            "overflow_x": null,
            "overflow_y": null,
            "padding": null,
            "right": null,
            "top": null,
            "visibility": null,
            "width": null
          }
        },
        "6b6f579eeaa14c4a87ba4240da097029": {
          "model_module": "@jupyter-widgets/controls",
          "model_name": "DescriptionStyleModel",
          "model_module_version": "1.5.0",
          "state": {
            "_model_module": "@jupyter-widgets/controls",
            "_model_module_version": "1.5.0",
            "_model_name": "DescriptionStyleModel",
            "_view_count": null,
            "_view_module": "@jupyter-widgets/base",
            "_view_module_version": "1.2.0",
            "_view_name": "StyleView",
            "description_width": ""
          }
        },
        "8cb00235afa44796bef439abd54045a0": {
          "model_module": "@jupyter-widgets/base",
          "model_name": "LayoutModel",
          "model_module_version": "1.2.0",
          "state": {
            "_model_module": "@jupyter-widgets/base",
            "_model_module_version": "1.2.0",
            "_model_name": "LayoutModel",
            "_view_count": null,
            "_view_module": "@jupyter-widgets/base",
            "_view_module_version": "1.2.0",
            "_view_name": "LayoutView",
            "align_content": null,
            "align_items": null,
            "align_self": null,
            "border": null,
            "bottom": null,
            "display": null,
            "flex": null,
            "flex_flow": null,
            "grid_area": null,
            "grid_auto_columns": null,
            "grid_auto_flow": null,
            "grid_auto_rows": null,
            "grid_column": null,
            "grid_gap": null,
            "grid_row": null,
            "grid_template_areas": null,
            "grid_template_columns": null,
            "grid_template_rows": null,
            "height": null,
            "justify_content": null,
            "justify_items": null,
            "left": null,
            "margin": null,
            "max_height": null,
            "max_width": null,
            "min_height": null,
            "min_width": null,
            "object_fit": null,
            "object_position": null,
            "order": null,
            "overflow": null,
            "overflow_x": null,
            "overflow_y": null,
            "padding": null,
            "right": null,
            "top": null,
            "visibility": null,
            "width": null
          }
        },
        "d9ef69fa82da4beeb4ebee377a2cdb49": {
          "model_module": "@jupyter-widgets/controls",
          "model_name": "ProgressStyleModel",
          "model_module_version": "1.5.0",
          "state": {
            "_model_module": "@jupyter-widgets/controls",
            "_model_module_version": "1.5.0",
            "_model_name": "ProgressStyleModel",
            "_view_count": null,
            "_view_module": "@jupyter-widgets/base",
            "_view_module_version": "1.2.0",
            "_view_name": "StyleView",
            "bar_color": null,
            "description_width": ""
          }
        },
        "00361816888f4001bd14fa661a9b30c8": {
          "model_module": "@jupyter-widgets/base",
          "model_name": "LayoutModel",
          "model_module_version": "1.2.0",
          "state": {
            "_model_module": "@jupyter-widgets/base",
            "_model_module_version": "1.2.0",
            "_model_name": "LayoutModel",
            "_view_count": null,
            "_view_module": "@jupyter-widgets/base",
            "_view_module_version": "1.2.0",
            "_view_name": "LayoutView",
            "align_content": null,
            "align_items": null,
            "align_self": null,
            "border": null,
            "bottom": null,
            "display": null,
            "flex": null,
            "flex_flow": null,
            "grid_area": null,
            "grid_auto_columns": null,
            "grid_auto_flow": null,
            "grid_auto_rows": null,
            "grid_column": null,
            "grid_gap": null,
            "grid_row": null,
            "grid_template_areas": null,
            "grid_template_columns": null,
            "grid_template_rows": null,
            "height": null,
            "justify_content": null,
            "justify_items": null,
            "left": null,
            "margin": null,
            "max_height": null,
            "max_width": null,
            "min_height": null,
            "min_width": null,
            "object_fit": null,
            "object_position": null,
            "order": null,
            "overflow": null,
            "overflow_x": null,
            "overflow_y": null,
            "padding": null,
            "right": null,
            "top": null,
            "visibility": null,
            "width": null
          }
        },
        "8f4cb76ea918470a9d0f011a81aeb4fa": {
          "model_module": "@jupyter-widgets/controls",
          "model_name": "DescriptionStyleModel",
          "model_module_version": "1.5.0",
          "state": {
            "_model_module": "@jupyter-widgets/controls",
            "_model_module_version": "1.5.0",
            "_model_name": "DescriptionStyleModel",
            "_view_count": null,
            "_view_module": "@jupyter-widgets/base",
            "_view_module_version": "1.2.0",
            "_view_name": "StyleView",
            "description_width": ""
          }
        },
        "c66d9daf6cee41419f5dbf643ae63b5f": {
          "model_module": "@jupyter-widgets/controls",
          "model_name": "HBoxModel",
          "model_module_version": "1.5.0",
          "state": {
            "_dom_classes": [],
            "_model_module": "@jupyter-widgets/controls",
            "_model_module_version": "1.5.0",
            "_model_name": "HBoxModel",
            "_view_count": null,
            "_view_module": "@jupyter-widgets/controls",
            "_view_module_version": "1.5.0",
            "_view_name": "HBoxView",
            "box_style": "",
            "children": [
              "IPY_MODEL_af46456755ca45cea7837e3d04fab7c1",
              "IPY_MODEL_e027711e2367458496cdd4621e905db1",
              "IPY_MODEL_8a688c1324d14205ba847fe70d2e3fa6"
            ],
            "layout": "IPY_MODEL_cf7ea5a915c94d729861cd6261fc89c7"
          }
        },
        "af46456755ca45cea7837e3d04fab7c1": {
          "model_module": "@jupyter-widgets/controls",
          "model_name": "HTMLModel",
          "model_module_version": "1.5.0",
          "state": {
            "_dom_classes": [],
            "_model_module": "@jupyter-widgets/controls",
            "_model_module_version": "1.5.0",
            "_model_name": "HTMLModel",
            "_view_count": null,
            "_view_module": "@jupyter-widgets/controls",
            "_view_module_version": "1.5.0",
            "_view_name": "HTMLView",
            "description": "",
            "description_tooltip": null,
            "layout": "IPY_MODEL_b839b14c11424cdeb5e5655fde3c34e6",
            "placeholder": "​",
            "style": "IPY_MODEL_7eafeb9a6d4341d3a25322efcbf614ab",
            "value": "config.json: 100%"
          }
        },
        "e027711e2367458496cdd4621e905db1": {
          "model_module": "@jupyter-widgets/controls",
          "model_name": "FloatProgressModel",
          "model_module_version": "1.5.0",
          "state": {
            "_dom_classes": [],
            "_model_module": "@jupyter-widgets/controls",
            "_model_module_version": "1.5.0",
            "_model_name": "FloatProgressModel",
            "_view_count": null,
            "_view_module": "@jupyter-widgets/controls",
            "_view_module_version": "1.5.0",
            "_view_name": "ProgressView",
            "bar_style": "success",
            "description": "",
            "description_tooltip": null,
            "layout": "IPY_MODEL_5197f1a9fb144816b89596897df99a4b",
            "max": 625,
            "min": 0,
            "orientation": "horizontal",
            "style": "IPY_MODEL_3d3bc10e51a54cb5bddf40e5e86c2b82",
            "value": 625
          }
        },
        "8a688c1324d14205ba847fe70d2e3fa6": {
          "model_module": "@jupyter-widgets/controls",
          "model_name": "HTMLModel",
          "model_module_version": "1.5.0",
          "state": {
            "_dom_classes": [],
            "_model_module": "@jupyter-widgets/controls",
            "_model_module_version": "1.5.0",
            "_model_name": "HTMLModel",
            "_view_count": null,
            "_view_module": "@jupyter-widgets/controls",
            "_view_module_version": "1.5.0",
            "_view_name": "HTMLView",
            "description": "",
            "description_tooltip": null,
            "layout": "IPY_MODEL_c672ed4424e04701b80535485afff4cd",
            "placeholder": "​",
            "style": "IPY_MODEL_aa3b142e78ff4037a9074cbd81122eb5",
            "value": " 625/625 [00:00&lt;00:00, 34.0kB/s]"
          }
        },
        "cf7ea5a915c94d729861cd6261fc89c7": {
          "model_module": "@jupyter-widgets/base",
          "model_name": "LayoutModel",
          "model_module_version": "1.2.0",
          "state": {
            "_model_module": "@jupyter-widgets/base",
            "_model_module_version": "1.2.0",
            "_model_name": "LayoutModel",
            "_view_count": null,
            "_view_module": "@jupyter-widgets/base",
            "_view_module_version": "1.2.0",
            "_view_name": "LayoutView",
            "align_content": null,
            "align_items": null,
            "align_self": null,
            "border": null,
            "bottom": null,
            "display": null,
            "flex": null,
            "flex_flow": null,
            "grid_area": null,
            "grid_auto_columns": null,
            "grid_auto_flow": null,
            "grid_auto_rows": null,
            "grid_column": null,
            "grid_gap": null,
            "grid_row": null,
            "grid_template_areas": null,
            "grid_template_columns": null,
            "grid_template_rows": null,
            "height": null,
            "justify_content": null,
            "justify_items": null,
            "left": null,
            "margin": null,
            "max_height": null,
            "max_width": null,
            "min_height": null,
            "min_width": null,
            "object_fit": null,
            "object_position": null,
            "order": null,
            "overflow": null,
            "overflow_x": null,
            "overflow_y": null,
            "padding": null,
            "right": null,
            "top": null,
            "visibility": null,
            "width": null
          }
        },
        "b839b14c11424cdeb5e5655fde3c34e6": {
          "model_module": "@jupyter-widgets/base",
          "model_name": "LayoutModel",
          "model_module_version": "1.2.0",
          "state": {
            "_model_module": "@jupyter-widgets/base",
            "_model_module_version": "1.2.0",
            "_model_name": "LayoutModel",
            "_view_count": null,
            "_view_module": "@jupyter-widgets/base",
            "_view_module_version": "1.2.0",
            "_view_name": "LayoutView",
            "align_content": null,
            "align_items": null,
            "align_self": null,
            "border": null,
            "bottom": null,
            "display": null,
            "flex": null,
            "flex_flow": null,
            "grid_area": null,
            "grid_auto_columns": null,
            "grid_auto_flow": null,
            "grid_auto_rows": null,
            "grid_column": null,
            "grid_gap": null,
            "grid_row": null,
            "grid_template_areas": null,
            "grid_template_columns": null,
            "grid_template_rows": null,
            "height": null,
            "justify_content": null,
            "justify_items": null,
            "left": null,
            "margin": null,
            "max_height": null,
            "max_width": null,
            "min_height": null,
            "min_width": null,
            "object_fit": null,
            "object_position": null,
            "order": null,
            "overflow": null,
            "overflow_x": null,
            "overflow_y": null,
            "padding": null,
            "right": null,
            "top": null,
            "visibility": null,
            "width": null
          }
        },
        "7eafeb9a6d4341d3a25322efcbf614ab": {
          "model_module": "@jupyter-widgets/controls",
          "model_name": "DescriptionStyleModel",
          "model_module_version": "1.5.0",
          "state": {
            "_model_module": "@jupyter-widgets/controls",
            "_model_module_version": "1.5.0",
            "_model_name": "DescriptionStyleModel",
            "_view_count": null,
            "_view_module": "@jupyter-widgets/base",
            "_view_module_version": "1.2.0",
            "_view_name": "StyleView",
            "description_width": ""
          }
        },
        "5197f1a9fb144816b89596897df99a4b": {
          "model_module": "@jupyter-widgets/base",
          "model_name": "LayoutModel",
          "model_module_version": "1.2.0",
          "state": {
            "_model_module": "@jupyter-widgets/base",
            "_model_module_version": "1.2.0",
            "_model_name": "LayoutModel",
            "_view_count": null,
            "_view_module": "@jupyter-widgets/base",
            "_view_module_version": "1.2.0",
            "_view_name": "LayoutView",
            "align_content": null,
            "align_items": null,
            "align_self": null,
            "border": null,
            "bottom": null,
            "display": null,
            "flex": null,
            "flex_flow": null,
            "grid_area": null,
            "grid_auto_columns": null,
            "grid_auto_flow": null,
            "grid_auto_rows": null,
            "grid_column": null,
            "grid_gap": null,
            "grid_row": null,
            "grid_template_areas": null,
            "grid_template_columns": null,
            "grid_template_rows": null,
            "height": null,
            "justify_content": null,
            "justify_items": null,
            "left": null,
            "margin": null,
            "max_height": null,
            "max_width": null,
            "min_height": null,
            "min_width": null,
            "object_fit": null,
            "object_position": null,
            "order": null,
            "overflow": null,
            "overflow_x": null,
            "overflow_y": null,
            "padding": null,
            "right": null,
            "top": null,
            "visibility": null,
            "width": null
          }
        },
        "3d3bc10e51a54cb5bddf40e5e86c2b82": {
          "model_module": "@jupyter-widgets/controls",
          "model_name": "ProgressStyleModel",
          "model_module_version": "1.5.0",
          "state": {
            "_model_module": "@jupyter-widgets/controls",
            "_model_module_version": "1.5.0",
            "_model_name": "ProgressStyleModel",
            "_view_count": null,
            "_view_module": "@jupyter-widgets/base",
            "_view_module_version": "1.2.0",
            "_view_name": "StyleView",
            "bar_color": null,
            "description_width": ""
          }
        },
        "c672ed4424e04701b80535485afff4cd": {
          "model_module": "@jupyter-widgets/base",
          "model_name": "LayoutModel",
          "model_module_version": "1.2.0",
          "state": {
            "_model_module": "@jupyter-widgets/base",
            "_model_module_version": "1.2.0",
            "_model_name": "LayoutModel",
            "_view_count": null,
            "_view_module": "@jupyter-widgets/base",
            "_view_module_version": "1.2.0",
            "_view_name": "LayoutView",
            "align_content": null,
            "align_items": null,
            "align_self": null,
            "border": null,
            "bottom": null,
            "display": null,
            "flex": null,
            "flex_flow": null,
            "grid_area": null,
            "grid_auto_columns": null,
            "grid_auto_flow": null,
            "grid_auto_rows": null,
            "grid_column": null,
            "grid_gap": null,
            "grid_row": null,
            "grid_template_areas": null,
            "grid_template_columns": null,
            "grid_template_rows": null,
            "height": null,
            "justify_content": null,
            "justify_items": null,
            "left": null,
            "margin": null,
            "max_height": null,
            "max_width": null,
            "min_height": null,
            "min_width": null,
            "object_fit": null,
            "object_position": null,
            "order": null,
            "overflow": null,
            "overflow_x": null,
            "overflow_y": null,
            "padding": null,
            "right": null,
            "top": null,
            "visibility": null,
            "width": null
          }
        },
        "aa3b142e78ff4037a9074cbd81122eb5": {
          "model_module": "@jupyter-widgets/controls",
          "model_name": "DescriptionStyleModel",
          "model_module_version": "1.5.0",
          "state": {
            "_model_module": "@jupyter-widgets/controls",
            "_model_module_version": "1.5.0",
            "_model_name": "DescriptionStyleModel",
            "_view_count": null,
            "_view_module": "@jupyter-widgets/base",
            "_view_module_version": "1.2.0",
            "_view_name": "StyleView",
            "description_width": ""
          }
        }
      }
    }
  },
  "cells": [
    {
      "cell_type": "markdown",
      "source": [
        "# **LSTM**"
      ],
      "metadata": {
        "id": "gTwhYi1IJ6RB"
      }
    },
    {
      "cell_type": "markdown",
      "source": [
        "# **Importing necessary modules**"
      ],
      "metadata": {
        "id": "7ks2lAw4Gj88"
      }
    },
    {
      "cell_type": "code",
      "source": [
        "import pandas as pd\n",
        "from sklearn.model_selection import train_test_split\n",
        "from keras.preprocessing.text import Tokenizer\n",
        "from keras.preprocessing.sequence import pad_sequences\n",
        "from keras.models import Sequential\n",
        "from keras.layers import Embedding, LSTM, Dense, Dropout\n",
        "from keras.preprocessing.text import text_to_word_sequence\n",
        "from transformers import BertTokenizer\n",
        "#from keras.applications.preprocessing import text_to_sequence  # for pre-trained embeddings\n",
        "from transformers import BertTokenizer, TFBertModel  # Example using pre-trained BERT model"
      ],
      "metadata": {
        "id": "RsUMBVpIWg1_"
      },
      "execution_count": 1,
      "outputs": []
    },
    {
      "cell_type": "code",
      "source": [
        "import numpy as np"
      ],
      "metadata": {
        "id": "Ex1MBh-rWjMt"
      },
      "execution_count": 2,
      "outputs": []
    },
    {
      "cell_type": "code",
      "source": [
        "!pip install langdetect"
      ],
      "metadata": {
        "colab": {
          "base_uri": "https://localhost:8080/"
        },
        "id": "YT3m9e8gWnHn",
        "outputId": "42fa5ed5-946d-4e8d-ece3-9dc58c30d117"
      },
      "execution_count": 3,
      "outputs": [
        {
          "output_type": "stream",
          "name": "stdout",
          "text": [
            "Collecting langdetect\n",
            "  Downloading langdetect-1.0.9.tar.gz (981 kB)\n",
            "\u001b[2K     \u001b[90m━━━━━━━━━━━━━━━━━━━━━━━━━━━━━━━━━━━━━━━━\u001b[0m \u001b[32m981.5/981.5 kB\u001b[0m \u001b[31m7.7 MB/s\u001b[0m eta \u001b[36m0:00:00\u001b[0m\n",
            "\u001b[?25h  Preparing metadata (setup.py) ... \u001b[?25l\u001b[?25hdone\n",
            "Requirement already satisfied: six in /usr/local/lib/python3.10/dist-packages (from langdetect) (1.16.0)\n",
            "Building wheels for collected packages: langdetect\n",
            "  Building wheel for langdetect (setup.py) ... \u001b[?25l\u001b[?25hdone\n",
            "  Created wheel for langdetect: filename=langdetect-1.0.9-py3-none-any.whl size=993227 sha256=95bf3ec57deaa1603bed6aef9d43e1ee1a3b57438e4a13f387f9f736455e4fde\n",
            "  Stored in directory: /root/.cache/pip/wheels/95/03/7d/59ea870c70ce4e5a370638b5462a7711ab78fba2f655d05106\n",
            "Successfully built langdetect\n",
            "Installing collected packages: langdetect\n",
            "Successfully installed langdetect-1.0.9\n"
          ]
        }
      ]
    },
    {
      "cell_type": "code",
      "source": [
        "from langdetect import detect"
      ],
      "metadata": {
        "id": "9qLPbTX8WqQj"
      },
      "execution_count": 4,
      "outputs": []
    },
    {
      "cell_type": "markdown",
      "source": [
        "# **Loading Data**"
      ],
      "metadata": {
        "id": "4uke1j-SIbqd"
      }
    },
    {
      "cell_type": "code",
      "source": [
        "\n",
        "data = pd.read_json(\"/content/filtered_train.json\")"
      ],
      "metadata": {
        "id": "gL34fQVYWvN7"
      },
      "execution_count": 5,
      "outputs": []
    },
    {
      "cell_type": "markdown",
      "source": [
        "**Data Sample Exploration**"
      ],
      "metadata": {
        "id": "-WaYaMi_Ikm9"
      }
    },
    {
      "cell_type": "code",
      "source": [
        "data.sample(5)"
      ],
      "metadata": {
        "colab": {
          "base_uri": "https://localhost:8080/",
          "height": 206
        },
        "id": "lREmeDdBXA7J",
        "outputId": "d3596565-ef44-4f41-9b8e-ca60423170de"
      },
      "execution_count": 6,
      "outputs": [
        {
          "output_type": "execute_result",
          "data": {
            "text/plain": [
              "                                                 pairs\n",
              "188  {'id': 1540, 'image': 'https://sammlung.staede...\n",
              "8    {'id': 28, 'image': 'https://sammlung.staedelm...\n",
              "74   {'id': 585, 'image': 'https://sammlung.staedel...\n",
              "38   {'id': 347, 'image': 'https://sammlung.staedel...\n",
              "111  {'id': 1013, 'image': 'https://sammlung.staede..."
            ],
            "text/html": [
              "\n",
              "  <div id=\"df-de41391d-85c0-4b34-b389-59c5a24ce66e\" class=\"colab-df-container\">\n",
              "    <div>\n",
              "<style scoped>\n",
              "    .dataframe tbody tr th:only-of-type {\n",
              "        vertical-align: middle;\n",
              "    }\n",
              "\n",
              "    .dataframe tbody tr th {\n",
              "        vertical-align: top;\n",
              "    }\n",
              "\n",
              "    .dataframe thead th {\n",
              "        text-align: right;\n",
              "    }\n",
              "</style>\n",
              "<table border=\"1\" class=\"dataframe\">\n",
              "  <thead>\n",
              "    <tr style=\"text-align: right;\">\n",
              "      <th></th>\n",
              "      <th>pairs</th>\n",
              "    </tr>\n",
              "  </thead>\n",
              "  <tbody>\n",
              "    <tr>\n",
              "      <th>188</th>\n",
              "      <td>{'id': 1540, 'image': 'https://sammlung.staede...</td>\n",
              "    </tr>\n",
              "    <tr>\n",
              "      <th>8</th>\n",
              "      <td>{'id': 28, 'image': 'https://sammlung.staedelm...</td>\n",
              "    </tr>\n",
              "    <tr>\n",
              "      <th>74</th>\n",
              "      <td>{'id': 585, 'image': 'https://sammlung.staedel...</td>\n",
              "    </tr>\n",
              "    <tr>\n",
              "      <th>38</th>\n",
              "      <td>{'id': 347, 'image': 'https://sammlung.staedel...</td>\n",
              "    </tr>\n",
              "    <tr>\n",
              "      <th>111</th>\n",
              "      <td>{'id': 1013, 'image': 'https://sammlung.staede...</td>\n",
              "    </tr>\n",
              "  </tbody>\n",
              "</table>\n",
              "</div>\n",
              "    <div class=\"colab-df-buttons\">\n",
              "\n",
              "  <div class=\"colab-df-container\">\n",
              "    <button class=\"colab-df-convert\" onclick=\"convertToInteractive('df-de41391d-85c0-4b34-b389-59c5a24ce66e')\"\n",
              "            title=\"Convert this dataframe to an interactive table.\"\n",
              "            style=\"display:none;\">\n",
              "\n",
              "  <svg xmlns=\"http://www.w3.org/2000/svg\" height=\"24px\" viewBox=\"0 -960 960 960\">\n",
              "    <path d=\"M120-120v-720h720v720H120Zm60-500h600v-160H180v160Zm220 220h160v-160H400v160Zm0 220h160v-160H400v160ZM180-400h160v-160H180v160Zm440 0h160v-160H620v160ZM180-180h160v-160H180v160Zm440 0h160v-160H620v160Z\"/>\n",
              "  </svg>\n",
              "    </button>\n",
              "\n",
              "  <style>\n",
              "    .colab-df-container {\n",
              "      display:flex;\n",
              "      gap: 12px;\n",
              "    }\n",
              "\n",
              "    .colab-df-convert {\n",
              "      background-color: #E8F0FE;\n",
              "      border: none;\n",
              "      border-radius: 50%;\n",
              "      cursor: pointer;\n",
              "      display: none;\n",
              "      fill: #1967D2;\n",
              "      height: 32px;\n",
              "      padding: 0 0 0 0;\n",
              "      width: 32px;\n",
              "    }\n",
              "\n",
              "    .colab-df-convert:hover {\n",
              "      background-color: #E2EBFA;\n",
              "      box-shadow: 0px 1px 2px rgba(60, 64, 67, 0.3), 0px 1px 3px 1px rgba(60, 64, 67, 0.15);\n",
              "      fill: #174EA6;\n",
              "    }\n",
              "\n",
              "    .colab-df-buttons div {\n",
              "      margin-bottom: 4px;\n",
              "    }\n",
              "\n",
              "    [theme=dark] .colab-df-convert {\n",
              "      background-color: #3B4455;\n",
              "      fill: #D2E3FC;\n",
              "    }\n",
              "\n",
              "    [theme=dark] .colab-df-convert:hover {\n",
              "      background-color: #434B5C;\n",
              "      box-shadow: 0px 1px 3px 1px rgba(0, 0, 0, 0.15);\n",
              "      filter: drop-shadow(0px 1px 2px rgba(0, 0, 0, 0.3));\n",
              "      fill: #FFFFFF;\n",
              "    }\n",
              "  </style>\n",
              "\n",
              "    <script>\n",
              "      const buttonEl =\n",
              "        document.querySelector('#df-de41391d-85c0-4b34-b389-59c5a24ce66e button.colab-df-convert');\n",
              "      buttonEl.style.display =\n",
              "        google.colab.kernel.accessAllowed ? 'block' : 'none';\n",
              "\n",
              "      async function convertToInteractive(key) {\n",
              "        const element = document.querySelector('#df-de41391d-85c0-4b34-b389-59c5a24ce66e');\n",
              "        const dataTable =\n",
              "          await google.colab.kernel.invokeFunction('convertToInteractive',\n",
              "                                                    [key], {});\n",
              "        if (!dataTable) return;\n",
              "\n",
              "        const docLinkHtml = 'Like what you see? Visit the ' +\n",
              "          '<a target=\"_blank\" href=https://colab.research.google.com/notebooks/data_table.ipynb>data table notebook</a>'\n",
              "          + ' to learn more about interactive tables.';\n",
              "        element.innerHTML = '';\n",
              "        dataTable['output_type'] = 'display_data';\n",
              "        await google.colab.output.renderOutput(dataTable, element);\n",
              "        const docLink = document.createElement('div');\n",
              "        docLink.innerHTML = docLinkHtml;\n",
              "        element.appendChild(docLink);\n",
              "      }\n",
              "    </script>\n",
              "  </div>\n",
              "\n",
              "\n",
              "<div id=\"df-8c90e6bb-c37c-4c70-a1e5-c80cb819b331\">\n",
              "  <button class=\"colab-df-quickchart\" onclick=\"quickchart('df-8c90e6bb-c37c-4c70-a1e5-c80cb819b331')\"\n",
              "            title=\"Suggest charts\"\n",
              "            style=\"display:none;\">\n",
              "\n",
              "<svg xmlns=\"http://www.w3.org/2000/svg\" height=\"24px\"viewBox=\"0 0 24 24\"\n",
              "     width=\"24px\">\n",
              "    <g>\n",
              "        <path d=\"M19 3H5c-1.1 0-2 .9-2 2v14c0 1.1.9 2 2 2h14c1.1 0 2-.9 2-2V5c0-1.1-.9-2-2-2zM9 17H7v-7h2v7zm4 0h-2V7h2v10zm4 0h-2v-4h2v4z\"/>\n",
              "    </g>\n",
              "</svg>\n",
              "  </button>\n",
              "\n",
              "<style>\n",
              "  .colab-df-quickchart {\n",
              "      --bg-color: #E8F0FE;\n",
              "      --fill-color: #1967D2;\n",
              "      --hover-bg-color: #E2EBFA;\n",
              "      --hover-fill-color: #174EA6;\n",
              "      --disabled-fill-color: #AAA;\n",
              "      --disabled-bg-color: #DDD;\n",
              "  }\n",
              "\n",
              "  [theme=dark] .colab-df-quickchart {\n",
              "      --bg-color: #3B4455;\n",
              "      --fill-color: #D2E3FC;\n",
              "      --hover-bg-color: #434B5C;\n",
              "      --hover-fill-color: #FFFFFF;\n",
              "      --disabled-bg-color: #3B4455;\n",
              "      --disabled-fill-color: #666;\n",
              "  }\n",
              "\n",
              "  .colab-df-quickchart {\n",
              "    background-color: var(--bg-color);\n",
              "    border: none;\n",
              "    border-radius: 50%;\n",
              "    cursor: pointer;\n",
              "    display: none;\n",
              "    fill: var(--fill-color);\n",
              "    height: 32px;\n",
              "    padding: 0;\n",
              "    width: 32px;\n",
              "  }\n",
              "\n",
              "  .colab-df-quickchart:hover {\n",
              "    background-color: var(--hover-bg-color);\n",
              "    box-shadow: 0 1px 2px rgba(60, 64, 67, 0.3), 0 1px 3px 1px rgba(60, 64, 67, 0.15);\n",
              "    fill: var(--button-hover-fill-color);\n",
              "  }\n",
              "\n",
              "  .colab-df-quickchart-complete:disabled,\n",
              "  .colab-df-quickchart-complete:disabled:hover {\n",
              "    background-color: var(--disabled-bg-color);\n",
              "    fill: var(--disabled-fill-color);\n",
              "    box-shadow: none;\n",
              "  }\n",
              "\n",
              "  .colab-df-spinner {\n",
              "    border: 2px solid var(--fill-color);\n",
              "    border-color: transparent;\n",
              "    border-bottom-color: var(--fill-color);\n",
              "    animation:\n",
              "      spin 1s steps(1) infinite;\n",
              "  }\n",
              "\n",
              "  @keyframes spin {\n",
              "    0% {\n",
              "      border-color: transparent;\n",
              "      border-bottom-color: var(--fill-color);\n",
              "      border-left-color: var(--fill-color);\n",
              "    }\n",
              "    20% {\n",
              "      border-color: transparent;\n",
              "      border-left-color: var(--fill-color);\n",
              "      border-top-color: var(--fill-color);\n",
              "    }\n",
              "    30% {\n",
              "      border-color: transparent;\n",
              "      border-left-color: var(--fill-color);\n",
              "      border-top-color: var(--fill-color);\n",
              "      border-right-color: var(--fill-color);\n",
              "    }\n",
              "    40% {\n",
              "      border-color: transparent;\n",
              "      border-right-color: var(--fill-color);\n",
              "      border-top-color: var(--fill-color);\n",
              "    }\n",
              "    60% {\n",
              "      border-color: transparent;\n",
              "      border-right-color: var(--fill-color);\n",
              "    }\n",
              "    80% {\n",
              "      border-color: transparent;\n",
              "      border-right-color: var(--fill-color);\n",
              "      border-bottom-color: var(--fill-color);\n",
              "    }\n",
              "    90% {\n",
              "      border-color: transparent;\n",
              "      border-bottom-color: var(--fill-color);\n",
              "    }\n",
              "  }\n",
              "</style>\n",
              "\n",
              "  <script>\n",
              "    async function quickchart(key) {\n",
              "      const quickchartButtonEl =\n",
              "        document.querySelector('#' + key + ' button');\n",
              "      quickchartButtonEl.disabled = true;  // To prevent multiple clicks.\n",
              "      quickchartButtonEl.classList.add('colab-df-spinner');\n",
              "      try {\n",
              "        const charts = await google.colab.kernel.invokeFunction(\n",
              "            'suggestCharts', [key], {});\n",
              "      } catch (error) {\n",
              "        console.error('Error during call to suggestCharts:', error);\n",
              "      }\n",
              "      quickchartButtonEl.classList.remove('colab-df-spinner');\n",
              "      quickchartButtonEl.classList.add('colab-df-quickchart-complete');\n",
              "    }\n",
              "    (() => {\n",
              "      let quickchartButtonEl =\n",
              "        document.querySelector('#df-8c90e6bb-c37c-4c70-a1e5-c80cb819b331 button');\n",
              "      quickchartButtonEl.style.display =\n",
              "        google.colab.kernel.accessAllowed ? 'block' : 'none';\n",
              "    })();\n",
              "  </script>\n",
              "</div>\n",
              "    </div>\n",
              "  </div>\n"
            ],
            "application/vnd.google.colaboratory.intrinsic+json": {
              "type": "dataframe",
              "summary": "{\n  \"name\": \"data\",\n  \"rows\": 5,\n  \"fields\": [\n    {\n      \"column\": \"pairs\",\n      \"properties\": {\n        \"dtype\": \"object\",\n        \"semantic_type\": \"\",\n        \"description\": \"\"\n      }\n    }\n  ]\n}"
            }
          },
          "metadata": {},
          "execution_count": 6
        }
      ]
    },
    {
      "cell_type": "code",
      "source": [
        "texts = [entry['text'] for entry in data['pairs']]"
      ],
      "metadata": {
        "id": "wtUu2IqdWvZf"
      },
      "execution_count": 7,
      "outputs": []
    },
    {
      "cell_type": "code",
      "source": [
        "texts[0:5]"
      ],
      "metadata": {
        "colab": {
          "base_uri": "https://localhost:8080/"
        },
        "id": "w5T0xfW4XGLx",
        "outputId": "e6d2ae48-aea9-43aa-aee5-c38106152d26"
      },
      "execution_count": 8,
      "outputs": [
        {
          "output_type": "execute_result",
          "data": {
            "text/plain": [
              "[\"Dotty was wakened next morning by a variety of sounds . The mocking - bird , the canary , the hens , and Horace ' s guinea pig were astir , and wished their little world to be aware of it .\",\n",
              " 'These glacial streams contain no animal life , at all events no fish , till they have received the waters of warmer tributaries .',\n",
              " \"Finally , rising listlessly from the couch on which he lay , his countenance irradiated with a very peculiar smile , he sauntered slowly to the door of the room . I sneered he , while making his characteristic exit , Blanche or Loo must stitch me an embroidered bib and tucker ere I pay my court to the little De Bys ! And yet , faith , jesting aside , who knows what might be effected ? Still , it 's ignoble game , a girl fresh from a foreign nursery , ' smelling of bread and butter , ' as Byron says .\",\n",
              " 'The people people generally appear to be very poor . Their mode of life mean ; their food coarse and indifferent , indifferent , except fish , which is excellent .',\n",
              " 'General Lincoln was sent to New England to persuade the militia to enlist in the defence of their country . Arnold was sent to the army to fight — emphatically to fight . He was a terrible fellow , and no traitor yet ; consequently we can do him justice with a better grace . Colonel Morgan , with his troop of light horse , was also ordered to repair to the Hudson .']"
            ]
          },
          "metadata": {},
          "execution_count": 8
        }
      ]
    },
    {
      "cell_type": "code",
      "source": [
        "labels = [entry['subtask1_label'] for entry in data['pairs']]"
      ],
      "metadata": {
        "id": "LyyXO9IUW78I"
      },
      "execution_count": 9,
      "outputs": []
    },
    {
      "cell_type": "code",
      "source": [
        "labels[0:5]"
      ],
      "metadata": {
        "colab": {
          "base_uri": "https://localhost:8080/"
        },
        "id": "gzw6n2FJXH-G",
        "outputId": "c4b92fdb-4cf4-48cb-f531-254ffe2c1f39"
      },
      "execution_count": 10,
      "outputs": [
        {
          "output_type": "execute_result",
          "data": {
            "text/plain": [
              "['NO', 'NO', 'YES', 'NO', 'NO']"
            ]
          },
          "metadata": {},
          "execution_count": 10
        }
      ]
    },
    {
      "cell_type": "code",
      "source": [
        "ids = [entry['id'] for entry in data['pairs']]"
      ],
      "metadata": {
        "id": "thX7_eYKXKCE"
      },
      "execution_count": 11,
      "outputs": []
    },
    {
      "cell_type": "markdown",
      "source": [
        "**Data Pre-Processing**"
      ],
      "metadata": {
        "id": "9AX5376eIw8l"
      }
    },
    {
      "cell_type": "code",
      "source": [
        "# Define constants\n",
        "MAX_LEN = 100  # Maximum sequence length\n",
        "EMBEDDING_DIM = 128  # Embedding dimension\n",
        "VOCAB_SIZE = 100000  # Vocabulary size"
      ],
      "metadata": {
        "id": "CHKCDPd9XNsp"
      },
      "execution_count": 12,
      "outputs": []
    },
    {
      "cell_type": "code",
      "source": [
        "import unicodedata\n",
        "import re"
      ],
      "metadata": {
        "id": "MiHou7IvXR0C"
      },
      "execution_count": 13,
      "outputs": []
    },
    {
      "cell_type": "code",
      "source": [
        "import nltk\n",
        "from nltk.corpus import stopwords\n",
        "nltk.download('stopwords')"
      ],
      "metadata": {
        "colab": {
          "base_uri": "https://localhost:8080/"
        },
        "id": "STC3s9QYXzOU",
        "outputId": "216fa809-c554-4b35-d68a-bf7412dea72a"
      },
      "execution_count": 14,
      "outputs": [
        {
          "output_type": "stream",
          "name": "stderr",
          "text": [
            "[nltk_data] Downloading package stopwords to /root/nltk_data...\n",
            "[nltk_data]   Unzipping corpora/stopwords.zip.\n"
          ]
        },
        {
          "output_type": "execute_result",
          "data": {
            "text/plain": [
              "True"
            ]
          },
          "metadata": {},
          "execution_count": 14
        }
      ]
    },
    {
      "cell_type": "code",
      "source": [
        "# Define stopwords and tokenizer\n",
        "stop_words = set(stopwords.words('english'))\n",
        "tokenizer = BertTokenizer.from_pretrained('bert-base-multilingual-uncased')"
      ],
      "metadata": {
        "id": "pO856Jf7ZKev",
        "colab": {
          "base_uri": "https://localhost:8080/",
          "height": 269,
          "referenced_widgets": [
            "35029d5c1a2c421a9d140a693f078f22",
            "1aefb1dc7c444594946b216f86366ca4",
            "a5043b071ad04d7eb15d0308a93ad290",
            "4e7ab170684e4556b0225bd7b2d074bf",
            "c79b44074e334a0483febc739cd6ed03",
            "fde079eec4254e07ba9d4b97a702e204",
            "f721d8a838b24d4291ca338062f73752",
            "3e6f4ba783144dc6a328921c00c05260",
            "34438c9d8f5b4bbe9e5be0ca837e1996",
            "1579aaafdd364de886b5c5b60cb67572",
            "4ea952bd714642d59e9f6315de5f2e10",
            "1c2f30f1e4d141d9b6561847be18c259",
            "e98feac9561b447290f1e463c35ec2f0",
            "5213b87f73734ceaad9f43ea0f108f91",
            "7a710dbb514c46a291124599d0d48c36",
            "26e0a3332b9347eb86b0d6fa8befded7",
            "5a3985534dbd4bac9c69cca4ceefa3a1",
            "15d7bc75c1bd44a3b427893bd3ae07d2",
            "1291a8f0e476492fbb1416ea03837a19",
            "3b1d112a6f164f579bff648e98eaf021",
            "fedaa6dcf3354c9b8904864aba658ad3",
            "1b3541cb964b48b487decce498c42a20",
            "1ae50ffea8974c3aa1120e4fa59a24fb",
            "f15ff02f43a841a58702b7ca7b89f3a3",
            "1b243924403042569b1d2a78f8781b84",
            "610ee6eb4df84622a111d5bf0694e7de",
            "b3edbd585a9a4fc19e508c744b27b29c",
            "8f1913f2675f4d78962b04a17d175a42",
            "6b6f579eeaa14c4a87ba4240da097029",
            "8cb00235afa44796bef439abd54045a0",
            "d9ef69fa82da4beeb4ebee377a2cdb49",
            "00361816888f4001bd14fa661a9b30c8",
            "8f4cb76ea918470a9d0f011a81aeb4fa",
            "c66d9daf6cee41419f5dbf643ae63b5f",
            "af46456755ca45cea7837e3d04fab7c1",
            "e027711e2367458496cdd4621e905db1",
            "8a688c1324d14205ba847fe70d2e3fa6",
            "cf7ea5a915c94d729861cd6261fc89c7",
            "b839b14c11424cdeb5e5655fde3c34e6",
            "7eafeb9a6d4341d3a25322efcbf614ab",
            "5197f1a9fb144816b89596897df99a4b",
            "3d3bc10e51a54cb5bddf40e5e86c2b82",
            "c672ed4424e04701b80535485afff4cd",
            "aa3b142e78ff4037a9074cbd81122eb5"
          ]
        },
        "outputId": "77377625-0dcc-4e15-f02c-3aba465cc9ef"
      },
      "execution_count": 15,
      "outputs": [
        {
          "output_type": "stream",
          "name": "stderr",
          "text": [
            "/usr/local/lib/python3.10/dist-packages/huggingface_hub/utils/_token.py:88: UserWarning: \n",
            "The secret `HF_TOKEN` does not exist in your Colab secrets.\n",
            "To authenticate with the Hugging Face Hub, create a token in your settings tab (https://huggingface.co/settings/tokens), set it as secret in your Google Colab and restart your session.\n",
            "You will be able to reuse this secret in all of your notebooks.\n",
            "Please note that authentication is recommended but still optional to access public models or datasets.\n",
            "  warnings.warn(\n"
          ]
        },
        {
          "output_type": "display_data",
          "data": {
            "text/plain": [
              "tokenizer_config.json:   0%|          | 0.00/48.0 [00:00<?, ?B/s]"
            ],
            "application/vnd.jupyter.widget-view+json": {
              "version_major": 2,
              "version_minor": 0,
              "model_id": "35029d5c1a2c421a9d140a693f078f22"
            }
          },
          "metadata": {}
        },
        {
          "output_type": "display_data",
          "data": {
            "text/plain": [
              "vocab.txt:   0%|          | 0.00/872k [00:00<?, ?B/s]"
            ],
            "application/vnd.jupyter.widget-view+json": {
              "version_major": 2,
              "version_minor": 0,
              "model_id": "1c2f30f1e4d141d9b6561847be18c259"
            }
          },
          "metadata": {}
        },
        {
          "output_type": "display_data",
          "data": {
            "text/plain": [
              "tokenizer.json:   0%|          | 0.00/1.72M [00:00<?, ?B/s]"
            ],
            "application/vnd.jupyter.widget-view+json": {
              "version_major": 2,
              "version_minor": 0,
              "model_id": "1ae50ffea8974c3aa1120e4fa59a24fb"
            }
          },
          "metadata": {}
        },
        {
          "output_type": "display_data",
          "data": {
            "text/plain": [
              "config.json:   0%|          | 0.00/625 [00:00<?, ?B/s]"
            ],
            "application/vnd.jupyter.widget-view+json": {
              "version_major": 2,
              "version_minor": 0,
              "model_id": "c66d9daf6cee41419f5dbf643ae63b5f"
            }
          },
          "metadata": {}
        }
      ]
    },
    {
      "cell_type": "code",
      "source": [
        "# Text preprocessing function\n",
        "def preprocess_text(text):\n",
        "    # Tokenize text using BERT tokenizer\n",
        "    tokens = tokenizer.tokenize(text)\n",
        "    # Remove stopwords and convert to lowercase\n",
        "    filtered_tokens = [token.lower() for token in tokens if token.lower() not in stop_words]\n",
        "    return ' '.join(filtered_tokens)"
      ],
      "metadata": {
        "id": "YQJxmQu6bWsW"
      },
      "execution_count": 16,
      "outputs": []
    },
    {
      "cell_type": "code",
      "source": [
        "# Preprocess text data\n",
        "processed_texts = [preprocess_text(text) for text in texts]"
      ],
      "metadata": {
        "id": "55pda9F0bMNx"
      },
      "execution_count": 17,
      "outputs": []
    },
    {
      "cell_type": "code",
      "source": [
        "# Define constants\n",
        "MAX_LEN = 100  # Maximum sequence length"
      ],
      "metadata": {
        "id": "PNIoq1uKbcol"
      },
      "execution_count": 18,
      "outputs": []
    },
    {
      "cell_type": "code",
      "source": [
        "EMBEDDING_DIM = 128  # Embedding dimension"
      ],
      "metadata": {
        "id": "cMm-_YolbhAb"
      },
      "execution_count": 19,
      "outputs": []
    },
    {
      "cell_type": "code",
      "source": [
        "VOCAB_SIZE = 100000  # Vocabulary size"
      ],
      "metadata": {
        "id": "1L8RftSwbi7E"
      },
      "execution_count": 20,
      "outputs": []
    },
    {
      "cell_type": "code",
      "source": [
        "# Tokenize processed text data using BERT tokenizer\n",
        "encoded_texts = [tokenizer.encode(text, add_special_tokens=True, max_length=MAX_LEN, truncation=True) for text in processed_texts]"
      ],
      "metadata": {
        "id": "wFIg8lyVbkbx"
      },
      "execution_count": 21,
      "outputs": []
    },
    {
      "cell_type": "code",
      "source": [
        "# Pad sequences\n",
        "padded_sequences = pad_sequences(encoded_texts, maxlen=MAX_LEN, padding='post')"
      ],
      "metadata": {
        "id": "OE57OJRjbndj"
      },
      "execution_count": 22,
      "outputs": []
    },
    {
      "cell_type": "code",
      "source": [
        " #Split data into training and testing sets\n",
        "X_train, X_test, y_train, y_test, id_train, id_test = train_test_split(padded_sequences, labels, ids, test_size=0.2, random_state=42)"
      ],
      "metadata": {
        "id": "fZMA8o4lbqfO"
      },
      "execution_count": 23,
      "outputs": []
    },
    {
      "cell_type": "code",
      "source": [
        "# Define label mapping dictionary\n",
        "label_mapping = {'YES': 1, 'NO': 0}  # Adjust as per your label mapping"
      ],
      "metadata": {
        "id": "wCTeesTObuTC"
      },
      "execution_count": 24,
      "outputs": []
    },
    {
      "cell_type": "code",
      "source": [
        "# Convert output labels to numeric format\n",
        "training_labels_numeric = [label_mapping[label] for label in y_train]\n",
        "testing_labels_numeric = [label_mapping[label] for label in y_test]"
      ],
      "metadata": {
        "id": "Xhq59sDTbyGx"
      },
      "execution_count": 25,
      "outputs": []
    },
    {
      "cell_type": "code",
      "source": [
        "# Convert numeric labels to NumPy arrays\n",
        "training_labels_numeric_np = np.array(training_labels_numeric)\n",
        "testing_labels_numeric_np = np.array(testing_labels_numeric)"
      ],
      "metadata": {
        "id": "rdI4Efzfb1_z"
      },
      "execution_count": 26,
      "outputs": []
    },
    {
      "cell_type": "markdown",
      "source": [
        "**Model Definition**"
      ],
      "metadata": {
        "id": "bCVI4FG8I_mf"
      }
    },
    {
      "cell_type": "code",
      "source": [
        "# Define LSTM-based model\n",
        "model = Sequential()\n",
        "model.add(Embedding(VOCAB_SIZE, EMBEDDING_DIM, input_length=MAX_LEN))\n",
        "model.add(LSTM(units=64, return_sequences=True))  # LSTM layer with 64 units\n",
        "model.add(Dropout(0.2))\n",
        "model.add(LSTM(units=32))  # LSTM layer with 32 units\n",
        "model.add(Dropout(0.2))\n",
        "model.add(Dense(1, activation='sigmoid'))  # Output layer for binary classification"
      ],
      "metadata": {
        "id": "SpQDBy3Eb4jd"
      },
      "execution_count": 27,
      "outputs": []
    },
    {
      "cell_type": "markdown",
      "source": [
        "**Model** **Compilation**"
      ],
      "metadata": {
        "id": "nh9EZOQmJGsK"
      }
    },
    {
      "cell_type": "code",
      "source": [
        "# Compile the model\n",
        "model.compile(loss='binary_crossentropy', optimizer='adam', metrics=['accuracy'])"
      ],
      "metadata": {
        "id": "JrBlPQM8b8sL"
      },
      "execution_count": 28,
      "outputs": []
    },
    {
      "cell_type": "markdown",
      "source": [
        "**Model Training**"
      ],
      "metadata": {
        "id": "yJ4ujTmKJNSP"
      }
    },
    {
      "cell_type": "code",
      "source": [
        "# Train the model\n",
        "model.fit(X_train, training_labels_numeric_np, epochs=50, batch_size=32, validation_data=(X_test, testing_labels_numeric_np))"
      ],
      "metadata": {
        "colab": {
          "base_uri": "https://localhost:8080/"
        },
        "id": "Yu7AiiAFb_f6",
        "outputId": "523f5772-29a5-43e2-a77e-dfa09018f904"
      },
      "execution_count": 29,
      "outputs": [
        {
          "output_type": "stream",
          "name": "stdout",
          "text": [
            "Epoch 1/50\n",
            "7/7 [==============================] - 10s 1s/step - loss: 0.6599 - accuracy: 0.7619 - val_loss: 0.6095 - val_accuracy: 0.7358\n",
            "Epoch 2/50\n",
            "7/7 [==============================] - 5s 739ms/step - loss: 0.5768 - accuracy: 0.7571 - val_loss: 0.5999 - val_accuracy: 0.7358\n",
            "Epoch 3/50\n",
            "7/7 [==============================] - 7s 1s/step - loss: 0.5509 - accuracy: 0.7571 - val_loss: 0.5814 - val_accuracy: 0.7358\n",
            "Epoch 4/50\n",
            "7/7 [==============================] - 5s 773ms/step - loss: 0.5287 - accuracy: 0.7571 - val_loss: 0.5853 - val_accuracy: 0.7358\n",
            "Epoch 5/50\n",
            "7/7 [==============================] - 7s 1s/step - loss: 0.5023 - accuracy: 0.7571 - val_loss: 0.6134 - val_accuracy: 0.7358\n",
            "Epoch 6/50\n",
            "7/7 [==============================] - 5s 659ms/step - loss: 0.4576 - accuracy: 0.7571 - val_loss: 0.5938 - val_accuracy: 0.7358\n",
            "Epoch 7/50\n",
            "7/7 [==============================] - 4s 614ms/step - loss: 0.3634 - accuracy: 0.8048 - val_loss: 0.9339 - val_accuracy: 0.7547\n",
            "Epoch 8/50\n",
            "7/7 [==============================] - 6s 973ms/step - loss: 0.3106 - accuracy: 0.8810 - val_loss: 0.5513 - val_accuracy: 0.7358\n",
            "Epoch 9/50\n",
            "7/7 [==============================] - 4s 593ms/step - loss: 0.2255 - accuracy: 0.9000 - val_loss: 0.7850 - val_accuracy: 0.7547\n",
            "Epoch 10/50\n",
            "7/7 [==============================] - 3s 397ms/step - loss: 0.1356 - accuracy: 0.9571 - val_loss: 1.1881 - val_accuracy: 0.6792\n",
            "Epoch 11/50\n",
            "7/7 [==============================] - 3s 371ms/step - loss: 0.1277 - accuracy: 0.9667 - val_loss: 1.2030 - val_accuracy: 0.6981\n",
            "Epoch 12/50\n",
            "7/7 [==============================] - 5s 728ms/step - loss: 0.0834 - accuracy: 0.9762 - val_loss: 1.4035 - val_accuracy: 0.5849\n",
            "Epoch 13/50\n",
            "7/7 [==============================] - 3s 474ms/step - loss: 0.0578 - accuracy: 0.9857 - val_loss: 1.2994 - val_accuracy: 0.6792\n",
            "Epoch 14/50\n",
            "7/7 [==============================] - 3s 366ms/step - loss: 0.0337 - accuracy: 0.9952 - val_loss: 1.3248 - val_accuracy: 0.6604\n",
            "Epoch 15/50\n",
            "7/7 [==============================] - 3s 439ms/step - loss: 0.0313 - accuracy: 0.9952 - val_loss: 1.3647 - val_accuracy: 0.6604\n",
            "Epoch 16/50\n",
            "7/7 [==============================] - 5s 745ms/step - loss: 0.0278 - accuracy: 0.9952 - val_loss: 1.3999 - val_accuracy: 0.6792\n",
            "Epoch 17/50\n",
            "7/7 [==============================] - 3s 417ms/step - loss: 0.0284 - accuracy: 0.9952 - val_loss: 1.4377 - val_accuracy: 0.6792\n",
            "Epoch 18/50\n",
            "7/7 [==============================] - 3s 457ms/step - loss: 0.0266 - accuracy: 0.9952 - val_loss: 1.4779 - val_accuracy: 0.6792\n",
            "Epoch 19/50\n",
            "7/7 [==============================] - 3s 370ms/step - loss: 0.0266 - accuracy: 0.9952 - val_loss: 1.5131 - val_accuracy: 0.6792\n",
            "Epoch 20/50\n",
            "7/7 [==============================] - 4s 540ms/step - loss: 0.0241 - accuracy: 0.9952 - val_loss: 1.5472 - val_accuracy: 0.6792\n",
            "Epoch 21/50\n",
            "7/7 [==============================] - 4s 501ms/step - loss: 0.0256 - accuracy: 0.9952 - val_loss: 1.5830 - val_accuracy: 0.6792\n",
            "Epoch 22/50\n",
            "7/7 [==============================] - 3s 456ms/step - loss: 0.0251 - accuracy: 0.9952 - val_loss: 1.6234 - val_accuracy: 0.6792\n",
            "Epoch 23/50\n",
            "7/7 [==============================] - 3s 368ms/step - loss: 0.0246 - accuracy: 0.9952 - val_loss: 1.6488 - val_accuracy: 0.6792\n",
            "Epoch 24/50\n",
            "7/7 [==============================] - 3s 503ms/step - loss: 0.0268 - accuracy: 0.9952 - val_loss: 1.6444 - val_accuracy: 0.6792\n",
            "Epoch 25/50\n",
            "7/7 [==============================] - 4s 594ms/step - loss: 0.0254 - accuracy: 0.9952 - val_loss: 1.6563 - val_accuracy: 0.6792\n",
            "Epoch 26/50\n",
            "7/7 [==============================] - 3s 398ms/step - loss: 0.0234 - accuracy: 0.9952 - val_loss: 1.6561 - val_accuracy: 0.6792\n",
            "Epoch 27/50\n",
            "7/7 [==============================] - 3s 451ms/step - loss: 0.0255 - accuracy: 0.9952 - val_loss: 1.6675 - val_accuracy: 0.6604\n",
            "Epoch 28/50\n",
            "7/7 [==============================] - 3s 436ms/step - loss: 0.0214 - accuracy: 0.9952 - val_loss: 1.6873 - val_accuracy: 0.6604\n",
            "Epoch 29/50\n",
            "7/7 [==============================] - 4s 563ms/step - loss: 0.0211 - accuracy: 0.9952 - val_loss: 1.6955 - val_accuracy: 0.6604\n",
            "Epoch 30/50\n",
            "7/7 [==============================] - 3s 367ms/step - loss: 0.0160 - accuracy: 0.9952 - val_loss: 1.6818 - val_accuracy: 0.6604\n",
            "Epoch 31/50\n",
            "7/7 [==============================] - 3s 413ms/step - loss: 0.0184 - accuracy: 0.9952 - val_loss: 1.6700 - val_accuracy: 0.6792\n",
            "Epoch 32/50\n",
            "7/7 [==============================] - 3s 377ms/step - loss: 0.0153 - accuracy: 0.9905 - val_loss: 1.7034 - val_accuracy: 0.6604\n",
            "Epoch 33/50\n",
            "7/7 [==============================] - 4s 570ms/step - loss: 0.0123 - accuracy: 0.9905 - val_loss: 1.7487 - val_accuracy: 0.6415\n",
            "Epoch 34/50\n",
            "7/7 [==============================] - 5s 667ms/step - loss: 0.0131 - accuracy: 0.9952 - val_loss: 1.7577 - val_accuracy: 0.6415\n",
            "Epoch 35/50\n",
            "7/7 [==============================] - 3s 442ms/step - loss: 0.0121 - accuracy: 0.9952 - val_loss: 1.7519 - val_accuracy: 0.6604\n",
            "Epoch 36/50\n",
            "7/7 [==============================] - 3s 404ms/step - loss: 0.0115 - accuracy: 0.9952 - val_loss: 1.7677 - val_accuracy: 0.6604\n",
            "Epoch 37/50\n",
            "7/7 [==============================] - 4s 536ms/step - loss: 0.0108 - accuracy: 0.9905 - val_loss: 1.7787 - val_accuracy: 0.6604\n",
            "Epoch 38/50\n",
            "7/7 [==============================] - 3s 474ms/step - loss: 0.0083 - accuracy: 0.9952 - val_loss: 1.7845 - val_accuracy: 0.6792\n",
            "Epoch 39/50\n",
            "7/7 [==============================] - 3s 421ms/step - loss: 0.0147 - accuracy: 0.9952 - val_loss: 1.8086 - val_accuracy: 0.6604\n",
            "Epoch 40/50\n",
            "7/7 [==============================] - 3s 371ms/step - loss: 0.0079 - accuracy: 0.9952 - val_loss: 1.8686 - val_accuracy: 0.6604\n",
            "Epoch 41/50\n",
            "7/7 [==============================] - 3s 369ms/step - loss: 0.0136 - accuracy: 0.9952 - val_loss: 1.7975 - val_accuracy: 0.6415\n",
            "Epoch 42/50\n",
            "7/7 [==============================] - 6s 946ms/step - loss: 0.0089 - accuracy: 0.9952 - val_loss: 1.7410 - val_accuracy: 0.6415\n",
            "Epoch 43/50\n",
            "7/7 [==============================] - 3s 425ms/step - loss: 0.0099 - accuracy: 0.9952 - val_loss: 1.7432 - val_accuracy: 0.6415\n",
            "Epoch 44/50\n",
            "7/7 [==============================] - 3s 438ms/step - loss: 0.0096 - accuracy: 0.9952 - val_loss: 1.8482 - val_accuracy: 0.6226\n",
            "Epoch 45/50\n",
            "7/7 [==============================] - 4s 524ms/step - loss: 0.0091 - accuracy: 0.9952 - val_loss: 1.9158 - val_accuracy: 0.6226\n",
            "Epoch 46/50\n",
            "7/7 [==============================] - 5s 668ms/step - loss: 0.0083 - accuracy: 0.9952 - val_loss: 1.9565 - val_accuracy: 0.6226\n",
            "Epoch 47/50\n",
            "7/7 [==============================] - 3s 487ms/step - loss: 0.0081 - accuracy: 0.9952 - val_loss: 1.9972 - val_accuracy: 0.6038\n",
            "Epoch 48/50\n",
            "7/7 [==============================] - 3s 373ms/step - loss: 0.0092 - accuracy: 0.9952 - val_loss: 2.0640 - val_accuracy: 0.6226\n",
            "Epoch 49/50\n",
            "7/7 [==============================] - 3s 426ms/step - loss: 0.0083 - accuracy: 0.9952 - val_loss: 2.0949 - val_accuracy: 0.6226\n",
            "Epoch 50/50\n",
            "7/7 [==============================] - 4s 668ms/step - loss: 0.0084 - accuracy: 0.9952 - val_loss: 2.0228 - val_accuracy: 0.6226\n"
          ]
        }
      ]
    },
    {
      "cell_type": "markdown",
      "source": [
        "**Model Evaluation**:"
      ],
      "metadata": {
        "id": "c1x4kbsFJ9NS"
      }
    },
    {
      "cell_type": "code",
      "source": [
        "# Evaluate the model on test data\n",
        "loss, accuracy = model.evaluate(X_test, testing_labels_numeric_np)\n",
        "\n",
        "# Print the accuracy\n",
        "print(\"Test Accuracy:\", accuracy)"
      ],
      "metadata": {
        "colab": {
          "base_uri": "https://localhost:8080/"
        },
        "id": "OwSpZCXOdE4x",
        "outputId": "289e10f4-9503-4961-f88e-a1f067df035e"
      },
      "execution_count": 30,
      "outputs": [
        {
          "output_type": "stream",
          "name": "stdout",
          "text": [
            "2/2 [==============================] - 0s 28ms/step - loss: 2.0228 - accuracy: 0.6226\n",
            "Test Accuracy: 0.6226415038108826\n"
          ]
        }
      ]
    },
    {
      "cell_type": "markdown",
      "source": [
        "# RNN"
      ],
      "metadata": {
        "id": "DENXV3B2J9o2"
      }
    },
    {
      "cell_type": "markdown",
      "source": [
        "# **Importing necessary modules**"
      ],
      "metadata": {
        "id": "cB5XqYd1KEJT"
      }
    },
    {
      "cell_type": "code",
      "source": [
        "import pandas as pd\n",
        "from sklearn.model_selection import train_test_split\n",
        "from keras.preprocessing.text import Tokenizer\n",
        "from keras.preprocessing.sequence import pad_sequences\n",
        "from keras.models import Sequential\n",
        "from keras.layers import Embedding, SimpleRNN, Dense, Dropout\n",
        "from transformers import BertTokenizer\n",
        "import numpy as np\n",
        "from langdetect import detect"
      ],
      "metadata": {
        "id": "DGOoLAN1J_oZ"
      },
      "execution_count": 31,
      "outputs": []
    },
    {
      "cell_type": "markdown",
      "source": [
        "**Data importing**"
      ],
      "metadata": {
        "id": "Wn0x8lENKI5E"
      }
    },
    {
      "cell_type": "code",
      "source": [
        "data = pd.read_json(\"/content/filtered_train.json\")\n"
      ],
      "metadata": {
        "id": "mmeQoSVqKmGU"
      },
      "execution_count": 32,
      "outputs": []
    },
    {
      "cell_type": "code",
      "source": [
        "texts = [entry['text'] for entry in data['pairs']]\n",
        "labels = [entry['subtask1_label'] for entry in data['pairs']]\n",
        "ids = [entry['id'] for entry in data['pairs']]"
      ],
      "metadata": {
        "id": "Ya9LUaMKKpq4"
      },
      "execution_count": 33,
      "outputs": []
    },
    {
      "cell_type": "code",
      "source": [
        "MAX_LEN = 100\n",
        "VOCAB_SIZE = 100000"
      ],
      "metadata": {
        "id": "69ngdX_RKya3"
      },
      "execution_count": 34,
      "outputs": []
    },
    {
      "cell_type": "markdown",
      "source": [
        "**Pre Processing**"
      ],
      "metadata": {
        "id": "wpEgbDdPKQG4"
      }
    },
    {
      "cell_type": "code",
      "source": [
        "# Tokenization and padding\n",
        "tokenizer = BertTokenizer.from_pretrained('bert-base-multilingual-uncased')\n",
        "processed_texts = [tokenizer.tokenize(text.lower()) for text in texts]\n",
        "encoded_texts = [tokenizer.encode(text, add_special_tokens=True, max_length=MAX_LEN, truncation=True) for text in processed_texts]\n",
        "padded_sequences = pad_sequences(encoded_texts, maxlen=MAX_LEN, padding='post')"
      ],
      "metadata": {
        "id": "-t3S3URMKzXA"
      },
      "execution_count": 35,
      "outputs": []
    },
    {
      "cell_type": "code",
      "source": [
        "X_train, X_test, y_train, y_test, id_train, id_test = train_test_split(padded_sequences, labels, ids, test_size=0.2, random_state=42)\n"
      ],
      "metadata": {
        "id": "FLmSCRV5K5fr"
      },
      "execution_count": 36,
      "outputs": []
    },
    {
      "cell_type": "code",
      "source": [
        "# Label mapping\n",
        "label_mapping = {'YES': 1, 'NO': 0}\n",
        "training_labels_numeric = [label_mapping[label] for label in y_train]\n",
        "testing_labels_numeric = [label_mapping[label] for label in y_test]"
      ],
      "metadata": {
        "id": "XVZ7lVPRK8_Q"
      },
      "execution_count": 37,
      "outputs": []
    },
    {
      "cell_type": "code",
      "source": [
        "# Convert numeric labels to NumPy arrays\n",
        "training_labels_numeric_np = np.array(training_labels_numeric)\n",
        "testing_labels_numeric_np = np.array(testing_labels_numeric)"
      ],
      "metadata": {
        "id": "3oMhYx8zLAbo"
      },
      "execution_count": 38,
      "outputs": []
    },
    {
      "cell_type": "markdown",
      "source": [
        "**Model Definition**"
      ],
      "metadata": {
        "id": "fUDrvDlVKYEC"
      }
    },
    {
      "cell_type": "code",
      "source": [
        "# Define RNN-based model\n",
        "model = Sequential()\n",
        "model.add(Embedding(VOCAB_SIZE, 128, input_length=MAX_LEN))\n",
        "model.add(SimpleRNN(units=64, return_sequences=True))\n",
        "model.add(Dropout(0.2))\n",
        "model.add(SimpleRNN(units=32))\n",
        "model.add(Dropout(0.2))\n",
        "model.add(Dense(1, activation='sigmoid'))"
      ],
      "metadata": {
        "id": "wGorBjYILDpB"
      },
      "execution_count": 39,
      "outputs": []
    },
    {
      "cell_type": "markdown",
      "source": [
        "**Model Compilation**"
      ],
      "metadata": {
        "id": "LPcXDGCIKa56"
      }
    },
    {
      "cell_type": "code",
      "source": [
        "model.compile(loss='binary_crossentropy', optimizer='adam', metrics=['accuracy'])"
      ],
      "metadata": {
        "id": "4jAuUevPLG8_"
      },
      "execution_count": 40,
      "outputs": []
    },
    {
      "cell_type": "markdown",
      "source": [
        "**Model Training**"
      ],
      "metadata": {
        "id": "KnrwEN_1Kest"
      }
    },
    {
      "cell_type": "code",
      "source": [
        "model.fit(X_train, training_labels_numeric_np, epochs=50, batch_size=32, validation_data=(X_test, testing_labels_numeric_np))"
      ],
      "metadata": {
        "colab": {
          "base_uri": "https://localhost:8080/"
        },
        "id": "p7c7n0b_LKcI",
        "outputId": "85a48bec-67f7-4caf-9bb5-f4cf26daedc4"
      },
      "execution_count": 41,
      "outputs": [
        {
          "output_type": "stream",
          "name": "stdout",
          "text": [
            "Epoch 1/50\n",
            "7/7 [==============================] - 5s 402ms/step - loss: 0.6561 - accuracy: 0.6333 - val_loss: 0.5967 - val_accuracy: 0.7358\n",
            "Epoch 2/50\n",
            "7/7 [==============================] - 3s 477ms/step - loss: 0.4101 - accuracy: 0.8333 - val_loss: 0.5504 - val_accuracy: 0.7358\n",
            "Epoch 3/50\n",
            "7/7 [==============================] - 4s 563ms/step - loss: 0.2215 - accuracy: 0.9476 - val_loss: 0.6177 - val_accuracy: 0.7358\n",
            "Epoch 4/50\n",
            "7/7 [==============================] - 3s 446ms/step - loss: 0.1132 - accuracy: 0.9762 - val_loss: 0.5740 - val_accuracy: 0.6981\n",
            "Epoch 5/50\n",
            "7/7 [==============================] - 3s 360ms/step - loss: 0.0524 - accuracy: 0.9857 - val_loss: 0.7478 - val_accuracy: 0.6604\n",
            "Epoch 6/50\n",
            "7/7 [==============================] - 2s 355ms/step - loss: 0.0286 - accuracy: 1.0000 - val_loss: 0.6090 - val_accuracy: 0.6604\n",
            "Epoch 7/50\n",
            "7/7 [==============================] - 4s 529ms/step - loss: 0.0265 - accuracy: 0.9905 - val_loss: 0.6784 - val_accuracy: 0.6981\n",
            "Epoch 8/50\n",
            "7/7 [==============================] - 3s 475ms/step - loss: 0.0199 - accuracy: 0.9952 - val_loss: 0.6490 - val_accuracy: 0.7358\n",
            "Epoch 9/50\n",
            "7/7 [==============================] - 3s 424ms/step - loss: 0.0158 - accuracy: 0.9952 - val_loss: 0.6551 - val_accuracy: 0.7925\n",
            "Epoch 10/50\n",
            "7/7 [==============================] - 3s 439ms/step - loss: 0.0158 - accuracy: 0.9952 - val_loss: 0.8016 - val_accuracy: 0.6792\n",
            "Epoch 11/50\n",
            "7/7 [==============================] - 3s 436ms/step - loss: 0.0218 - accuracy: 0.9952 - val_loss: 0.7463 - val_accuracy: 0.6981\n",
            "Epoch 12/50\n",
            "7/7 [==============================] - 4s 568ms/step - loss: 0.0159 - accuracy: 0.9952 - val_loss: 0.6861 - val_accuracy: 0.7358\n",
            "Epoch 13/50\n",
            "7/7 [==============================] - 3s 397ms/step - loss: 0.0108 - accuracy: 0.9952 - val_loss: 0.6739 - val_accuracy: 0.7547\n",
            "Epoch 14/50\n",
            "7/7 [==============================] - 3s 379ms/step - loss: 0.0151 - accuracy: 0.9952 - val_loss: 0.7593 - val_accuracy: 0.7547\n",
            "Epoch 15/50\n",
            "7/7 [==============================] - 2s 322ms/step - loss: 0.0123 - accuracy: 0.9905 - val_loss: 0.8390 - val_accuracy: 0.6792\n",
            "Epoch 16/50\n",
            "7/7 [==============================] - 3s 474ms/step - loss: 0.0120 - accuracy: 0.9952 - val_loss: 0.7624 - val_accuracy: 0.7358\n",
            "Epoch 17/50\n",
            "7/7 [==============================] - 4s 511ms/step - loss: 0.0108 - accuracy: 0.9952 - val_loss: 0.7041 - val_accuracy: 0.7170\n",
            "Epoch 18/50\n",
            "7/7 [==============================] - 3s 379ms/step - loss: 0.0119 - accuracy: 0.9952 - val_loss: 0.7644 - val_accuracy: 0.7170\n",
            "Epoch 19/50\n",
            "7/7 [==============================] - 3s 442ms/step - loss: 0.0103 - accuracy: 0.9952 - val_loss: 0.9000 - val_accuracy: 0.6604\n",
            "Epoch 20/50\n",
            "7/7 [==============================] - 3s 406ms/step - loss: 0.0095 - accuracy: 0.9952 - val_loss: 0.7919 - val_accuracy: 0.7358\n",
            "Epoch 21/50\n",
            "7/7 [==============================] - 4s 589ms/step - loss: 0.0141 - accuracy: 0.9952 - val_loss: 0.7229 - val_accuracy: 0.7358\n",
            "Epoch 22/50\n",
            "7/7 [==============================] - 3s 330ms/step - loss: 0.0118 - accuracy: 0.9905 - val_loss: 0.6902 - val_accuracy: 0.6981\n",
            "Epoch 23/50\n",
            "7/7 [==============================] - 3s 380ms/step - loss: 0.0084 - accuracy: 1.0000 - val_loss: 0.7380 - val_accuracy: 0.6792\n",
            "Epoch 24/50\n",
            "7/7 [==============================] - 2s 334ms/step - loss: 0.0114 - accuracy: 0.9952 - val_loss: 0.8530 - val_accuracy: 0.6792\n",
            "Epoch 25/50\n",
            "7/7 [==============================] - 3s 371ms/step - loss: 0.0082 - accuracy: 0.9952 - val_loss: 0.8667 - val_accuracy: 0.7170\n",
            "Epoch 26/50\n",
            "7/7 [==============================] - 4s 640ms/step - loss: 0.0070 - accuracy: 1.0000 - val_loss: 0.7688 - val_accuracy: 0.7358\n",
            "Epoch 27/50\n",
            "7/7 [==============================] - 3s 330ms/step - loss: 0.0134 - accuracy: 0.9952 - val_loss: 0.6857 - val_accuracy: 0.7170\n",
            "Epoch 28/50\n",
            "7/7 [==============================] - 3s 435ms/step - loss: 0.0109 - accuracy: 0.9952 - val_loss: 0.7622 - val_accuracy: 0.7358\n",
            "Epoch 29/50\n",
            "7/7 [==============================] - 3s 434ms/step - loss: 0.0091 - accuracy: 0.9952 - val_loss: 0.8269 - val_accuracy: 0.6792\n",
            "Epoch 30/50\n",
            "7/7 [==============================] - 3s 488ms/step - loss: 0.0087 - accuracy: 0.9952 - val_loss: 0.7932 - val_accuracy: 0.7170\n",
            "Epoch 31/50\n",
            "7/7 [==============================] - 3s 460ms/step - loss: 0.0067 - accuracy: 1.0000 - val_loss: 0.7616 - val_accuracy: 0.7170\n",
            "Epoch 32/50\n",
            "7/7 [==============================] - 3s 379ms/step - loss: 0.0094 - accuracy: 0.9952 - val_loss: 0.7377 - val_accuracy: 0.7170\n",
            "Epoch 33/50\n",
            "7/7 [==============================] - 3s 401ms/step - loss: 0.0095 - accuracy: 0.9905 - val_loss: 0.7100 - val_accuracy: 0.7358\n",
            "Epoch 34/50\n",
            "7/7 [==============================] - 2s 330ms/step - loss: 0.0132 - accuracy: 0.9905 - val_loss: 0.7853 - val_accuracy: 0.7358\n",
            "Epoch 35/50\n",
            "7/7 [==============================] - 4s 535ms/step - loss: 0.0097 - accuracy: 0.9952 - val_loss: 0.8107 - val_accuracy: 0.7170\n",
            "Epoch 36/50\n",
            "7/7 [==============================] - 4s 510ms/step - loss: 0.0106 - accuracy: 0.9905 - val_loss: 0.8498 - val_accuracy: 0.7358\n",
            "Epoch 37/50\n",
            "7/7 [==============================] - 3s 439ms/step - loss: 0.0076 - accuracy: 0.9952 - val_loss: 0.9117 - val_accuracy: 0.7358\n",
            "Epoch 38/50\n",
            "7/7 [==============================] - 3s 390ms/step - loss: 0.0110 - accuracy: 0.9905 - val_loss: 0.8927 - val_accuracy: 0.7547\n",
            "Epoch 39/50\n",
            "7/7 [==============================] - 3s 364ms/step - loss: 0.0092 - accuracy: 0.9952 - val_loss: 0.8552 - val_accuracy: 0.7547\n",
            "Epoch 40/50\n",
            "7/7 [==============================] - 4s 580ms/step - loss: 0.0088 - accuracy: 0.9905 - val_loss: 0.7964 - val_accuracy: 0.7358\n",
            "Epoch 41/50\n",
            "7/7 [==============================] - 3s 360ms/step - loss: 0.0093 - accuracy: 0.9952 - val_loss: 0.8618 - val_accuracy: 0.7358\n",
            "Epoch 42/50\n",
            "7/7 [==============================] - 3s 382ms/step - loss: 0.0100 - accuracy: 0.9952 - val_loss: 0.9244 - val_accuracy: 0.7170\n",
            "Epoch 43/50\n",
            "7/7 [==============================] - 3s 375ms/step - loss: 0.0118 - accuracy: 0.9952 - val_loss: 0.8163 - val_accuracy: 0.7547\n",
            "Epoch 44/50\n",
            "7/7 [==============================] - 2s 323ms/step - loss: 0.0080 - accuracy: 0.9952 - val_loss: 0.7919 - val_accuracy: 0.7547\n",
            "Epoch 45/50\n",
            "7/7 [==============================] - 4s 585ms/step - loss: 0.0088 - accuracy: 0.9952 - val_loss: 0.8823 - val_accuracy: 0.6792\n",
            "Epoch 46/50\n",
            "7/7 [==============================] - 3s 378ms/step - loss: 0.0064 - accuracy: 1.0000 - val_loss: 0.9413 - val_accuracy: 0.6604\n",
            "Epoch 47/50\n",
            "7/7 [==============================] - 2s 331ms/step - loss: 0.0075 - accuracy: 0.9952 - val_loss: 0.9433 - val_accuracy: 0.6792\n",
            "Epoch 48/50\n",
            "7/7 [==============================] - 2s 341ms/step - loss: 0.0056 - accuracy: 0.9952 - val_loss: 0.8201 - val_accuracy: 0.7170\n",
            "Epoch 49/50\n",
            "7/7 [==============================] - 3s 424ms/step - loss: 0.0102 - accuracy: 0.9952 - val_loss: 0.8840 - val_accuracy: 0.7358\n",
            "Epoch 50/50\n",
            "7/7 [==============================] - 4s 559ms/step - loss: 0.0113 - accuracy: 0.9952 - val_loss: 0.9352 - val_accuracy: 0.7170\n"
          ]
        },
        {
          "output_type": "execute_result",
          "data": {
            "text/plain": [
              "<keras.src.callbacks.History at 0x7dee4ea86cb0>"
            ]
          },
          "metadata": {},
          "execution_count": 41
        }
      ]
    },
    {
      "cell_type": "markdown",
      "source": [
        "**evaluation**"
      ],
      "metadata": {
        "id": "Kuo7w9IkKkd1"
      }
    },
    {
      "cell_type": "code",
      "source": [
        "# Evaluate the model on test data\n",
        "loss, accuracy = model.evaluate(X_test, testing_labels_numeric_np)\n",
        "\n",
        "# Print the accuracy\n",
        "print(\"Test Accuracy:\", accuracy)"
      ],
      "metadata": {
        "colab": {
          "base_uri": "https://localhost:8080/"
        },
        "id": "fGWmgkaJLceR",
        "outputId": "1a43702b-ff87-4913-c3bd-1aad999c1d2e"
      },
      "execution_count": 42,
      "outputs": [
        {
          "output_type": "stream",
          "name": "stdout",
          "text": [
            "2/2 [==============================] - 0s 30ms/step - loss: 0.9352 - accuracy: 0.7170\n",
            "Test Accuracy: 0.7169811129570007\n"
          ]
        }
      ]
    }
  ]
}